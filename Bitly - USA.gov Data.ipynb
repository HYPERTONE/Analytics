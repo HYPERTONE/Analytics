{
 "cells": [
  {
   "cell_type": "code",
   "execution_count": null,
   "metadata": {},
   "outputs": [],
   "source": [
    "# Bitly is a URL shortening service.\n",
    "# Bitly partnered with USA.gov to provide a feed of anonymous data \n",
    "# gathered from users wh osorten links ending with .gov or .mil"
   ]
  },
  {
   "cell_type": "code",
   "execution_count": 1,
   "metadata": {},
   "outputs": [
    {
     "name": "stdout",
     "output_type": "stream",
     "text": [
      "Number of records: 3560\n"
     ]
    }
   ],
   "source": [
    "import json\n",
    "path = r'C:\\Users\\hh4678\\Desktop\\DS ML\\bitly_usagov\\example.txt'\n",
    "records = [json.loads(line) for line in open(path)]\n",
    "\n",
    "print('Number of records: {}'.format(len(records)))"
   ]
  },
  {
   "cell_type": "code",
   "execution_count": 2,
   "metadata": {},
   "outputs": [
    {
     "data": {
      "text/plain": [
       "{'a': 'Mozilla/5.0 (Windows NT 6.1; WOW64) AppleWebKit/535.11 (KHTML, like Gecko) Chrome/17.0.963.78 Safari/535.11',\n",
       " 'c': 'US',\n",
       " 'nk': 1,\n",
       " 'tz': 'America/New_York',\n",
       " 'gr': 'MA',\n",
       " 'g': 'A6qOVH',\n",
       " 'h': 'wfLQtf',\n",
       " 'l': 'orofrog',\n",
       " 'al': 'en-US,en;q=0.8',\n",
       " 'hh': '1.usa.gov',\n",
       " 'r': 'http://www.facebook.com/l/7AQEFzjSi/1.usa.gov/wfLQtf',\n",
       " 'u': 'http://www.ncbi.nlm.nih.gov/pubmed/22415991',\n",
       " 't': 1331923247,\n",
       " 'hc': 1331822918,\n",
       " 'cy': 'Danvers',\n",
       " 'll': [42.576698, -70.954903]}"
      ]
     },
     "execution_count": 2,
     "metadata": {},
     "output_type": "execute_result"
    }
   ],
   "source": [
    "# Let's see what one of these records looks like.\n",
    "\n",
    "records[0]"
   ]
  },
  {
   "cell_type": "code",
   "execution_count": 3,
   "metadata": {},
   "outputs": [
    {
     "data": {
      "text/plain": [
       "['America/New_York',\n",
       " 'America/Denver',\n",
       " 'America/New_York',\n",
       " 'America/Sao_Paulo',\n",
       " 'America/New_York',\n",
       " 'America/New_York',\n",
       " 'Europe/Warsaw',\n",
       " '',\n",
       " '',\n",
       " '']"
      ]
     },
     "execution_count": 3,
     "metadata": {},
     "output_type": "execute_result"
    }
   ],
   "source": [
    "# How many unique timezones are there?\n",
    "\n",
    "# Using list comprehension:\n",
    "# time_zones = [rec['tz'] for rec in records if 'tz' in rec]\n",
    "\n",
    "time_zones = []\n",
    "for rec in records:\n",
    "    if 'tz' in rec:\n",
    "        time_zones.append(rec['tz'])\n",
    "        \n",
    "time_zones[:10]"
   ]
  },
  {
   "cell_type": "code",
   "execution_count": 4,
   "metadata": {},
   "outputs": [
    {
     "name": "stdout",
     "output_type": "stream",
     "text": [
      "97\n"
     ]
    }
   ],
   "source": [
    "# Determin which timzone has the most entries\n",
    "def get_counts(sequence):\n",
    "    counts = {}\n",
    "    for x in sequence:\n",
    "        if x in counts:\n",
    "            counts[x] += 1\n",
    "        else:\n",
    "            counts[x] = 1\n",
    "    return counts\n",
    "\n",
    "counts = get_counts(time_zones)\n",
    "print(len(counts))"
   ]
  },
  {
   "cell_type": "code",
   "execution_count": 5,
   "metadata": {},
   "outputs": [
    {
     "name": "stdout",
     "output_type": "stream",
     "text": [
      "Number of entries from New York: 1251 or 36.37%\n"
     ]
    }
   ],
   "source": [
    "# How many were from New York?\n",
    "p = '{:.2%}'.format((counts['America/New_York'] / len(time_zones)))\n",
    "\n",
    "print('Number of entries from New York: {} or {}'.format(counts['America/New_York'], p))"
   ]
  },
  {
   "cell_type": "code",
   "execution_count": 6,
   "metadata": {},
   "outputs": [
    {
     "data": {
      "text/plain": [
       "[(1251, 'America/New_York'),\n",
       " (521, ''),\n",
       " (400, 'America/Chicago'),\n",
       " (382, 'America/Los_Angeles'),\n",
       " (191, 'America/Denver'),\n",
       " (74, 'Europe/London'),\n",
       " (37, 'Asia/Tokyo'),\n",
       " (36, 'Pacific/Honolulu'),\n",
       " (35, 'Europe/Madrid'),\n",
       " (33, 'America/Sao_Paulo')]"
      ]
     },
     "execution_count": 6,
     "metadata": {},
     "output_type": "execute_result"
    }
   ],
   "source": [
    "# Find the top 10 most frequent time zones\n",
    "reorder_counts = [(val, key) for key, val in counts.items()]\n",
    "\n",
    "reorder_counts.sort(reverse=True)\n",
    "reorder_counts[:10]"
   ]
  },
  {
   "cell_type": "code",
   "execution_count": 7,
   "metadata": {},
   "outputs": [
    {
     "name": "stdout",
     "output_type": "stream",
     "text": [
      "<class 'pandas.core.frame.DataFrame'>\n",
      "RangeIndex: 3560 entries, 0 to 3559\n",
      "Data columns (total 18 columns):\n",
      "_heartbeat_    120 non-null float64\n",
      "a              3440 non-null object\n",
      "al             3094 non-null object\n",
      "c              2919 non-null object\n",
      "cy             2919 non-null object\n",
      "g              3440 non-null object\n",
      "gr             2919 non-null object\n",
      "h              3440 non-null object\n",
      "hc             3440 non-null float64\n",
      "hh             3440 non-null object\n",
      "kw             93 non-null object\n",
      "l              3440 non-null object\n",
      "ll             2919 non-null object\n",
      "nk             3440 non-null float64\n",
      "r              3440 non-null object\n",
      "t              3440 non-null float64\n",
      "tz             3440 non-null object\n",
      "u              3440 non-null object\n",
      "dtypes: float64(4), object(14)\n",
      "memory usage: 500.7+ KB\n"
     ]
    }
   ],
   "source": [
    "# Transform JSON data using pandas\n",
    "\n",
    "import pandas as pd\n",
    "\n",
    "frame = pd.DataFrame(records)\n",
    "frame.info()"
   ]
  },
  {
   "cell_type": "code",
   "execution_count": 8,
   "metadata": {},
   "outputs": [
    {
     "data": {
      "text/plain": [
       "0     America/New_York\n",
       "1       America/Denver\n",
       "2     America/New_York\n",
       "3    America/Sao_Paulo\n",
       "4     America/New_York\n",
       "5     America/New_York\n",
       "6        Europe/Warsaw\n",
       "7                     \n",
       "8                     \n",
       "9                     \n",
       "Name: tz, dtype: object"
      ]
     },
     "execution_count": 8,
     "metadata": {},
     "output_type": "execute_result"
    }
   ],
   "source": [
    "# Check timzone field\n",
    "frame['tz'][:10]"
   ]
  },
  {
   "cell_type": "code",
   "execution_count": 9,
   "metadata": {},
   "outputs": [
    {
     "data": {
      "text/plain": [
       "America/New_York       1251\n",
       "                        521\n",
       "America/Chicago         400\n",
       "America/Los_Angeles     382\n",
       "America/Denver          191\n",
       "Europe/London            74\n",
       "Asia/Tokyo               37\n",
       "Pacific/Honolulu         36\n",
       "Europe/Madrid            35\n",
       "America/Sao_Paulo        33\n",
       "Name: tz, dtype: int64"
      ]
     },
     "execution_count": 9,
     "metadata": {},
     "output_type": "execute_result"
    }
   ],
   "source": [
    "# Determine most frequent time zones\n",
    "tz_counts = frame['tz'].value_counts()\n",
    "tz_counts[:10]"
   ]
  },
  {
   "cell_type": "code",
   "execution_count": 10,
   "metadata": {},
   "outputs": [
    {
     "data": {
      "text/plain": [
       "America/New_York       1251\n",
       "Unknown                 521\n",
       "America/Chicago         400\n",
       "America/Los_Angeles     382\n",
       "America/Denver          191\n",
       "Name: tz, dtype: int64"
      ]
     },
     "execution_count": 10,
     "metadata": {},
     "output_type": "execute_result"
    }
   ],
   "source": [
    "# Rename blank index to Unknown\n",
    "tz_counts.rename(index={'' : 'Unknown'}, inplace=True)\n",
    "tz_counts[:5]"
   ]
  },
  {
   "cell_type": "code",
   "execution_count": 11,
   "metadata": {},
   "outputs": [
    {
     "data": {
      "text/plain": [
       "<matplotlib.axes._subplots.AxesSubplot at 0xb7a6d68>"
      ]
     },
     "execution_count": 11,
     "metadata": {},
     "output_type": "execute_result"
    }
   ],
   "source": [
    "import seaborn as sns\n",
    "import matplotlib.pyplot as plt\n",
    "\n",
    "plt.figure(figsize=(15, 8))\n",
    "sns.barplot(y=tz_counts[:10].index, x=tz_counts[:10].values)"
   ]
  },
  {
   "cell_type": "code",
   "execution_count": 12,
   "metadata": {},
   "outputs": [
    {
     "data": {
      "text/plain": [
       "index      0\n",
       "a          0\n",
       "c        521\n",
       "cy       521\n",
       "tz         0\n",
       "dtype: int64"
      ]
     },
     "execution_count": 12,
     "metadata": {},
     "output_type": "execute_result"
    }
   ],
   "source": [
    "# Remove unnecessary columns\n",
    "frame = frame[['a', 'c', 'cy', 'tz']]\n",
    "\n",
    "# Index frame to not include nulls found in 'a'\n",
    "frame = frame[pd.notnull(frame['a'])].reset_index()\n",
    "\n",
    "# Check to make sure 'a' contains no nulls\n",
    "frame.isna().sum()"
   ]
  },
  {
   "cell_type": "code",
   "execution_count": null,
   "metadata": {},
   "outputs": [],
   "source": [
    "# The 'a' field contains information about the browser, device, or application used to perform\n",
    "# URL shortening.\n",
    "\n",
    "# Supposed we want to determine whether someone is running Windows, Macintosh, or Linux"
   ]
  },
  {
   "cell_type": "code",
   "execution_count": 13,
   "metadata": {},
   "outputs": [
    {
     "data": {
      "text/plain": [
       "<matplotlib.axes._subplots.AxesSubplot at 0xc02efd0>"
      ]
     },
     "execution_count": 13,
     "metadata": {},
     "output_type": "execute_result"
    },
    {
     "data": {
      "image/png": "[encoded data removed]",
      "text/plain": [
       "<Figure size 1080x576 with 1 Axes>"
      ]
     },
     "metadata": {
      "needs_background": "light"
     },
     "output_type": "display_data"
    }
   ],
   "source": [
    "# The largest operating systems are Windows, Macintosh, and Linux.\n",
    "# Let's see what ones are present and their distribution.\n",
    "\n",
    "# operating_system = []\n",
    "# for key, value in frame['a'][:5].iteritems():\n",
    "#     if 'Windows' in value:\n",
    "#         operating_system.append('Windows')\n",
    "#     elif 'Macintosh' in value:\n",
    "#         operating_system.append('Macintosh')\n",
    "#     elif 'Linux' in value:\n",
    "#         operating_system.append('Linux')\n",
    "#     else:\n",
    "#         operating_system.append('Other')\n",
    "\n",
    "operating_system = ['Windows' if 'Windows' in value else 'Macintosh' if 'Macintosh' in value \n",
    "                    else 'Linux' if 'Linux' in value else 'Other' for key, value in frame['a'].iteritems()]\n",
    "\n",
    "frame['OperatingSystem'] = pd.Series(operating_system)\n",
    "\n",
    "os = frame['OperatingSystem'].value_counts()\n",
    "\n",
    "# Plot the value counts.\n",
    "plt.figure(figsize=(15, 8))\n",
    "sns.barplot(x=os.index, y=os.values, data=frame)\n"
   ]
  },
  {
   "cell_type": "code",
   "execution_count": 74,
   "metadata": {},
   "outputs": [],
   "source": [
    "# Determine list of most popular Operating Systems per Time Zone\n",
    "\n",
    "def get_os_counts(data, os_name, top_n=10):\n",
    "    \"\"\"Returns counts of timezones based on OS.\"\"\"\n",
    "    \n",
    "    os_name = os_name[0].upper() + os_name[1:].lower()\n",
    "    data = frame[['tz', 'OperatingSystem']].loc[frame['OperatingSystem'] == os_name].reset_index(drop=True)\n",
    "    \n",
    "    data['tz'].loc[data['tz'] == ''] = 'Unknown'\n",
    "    data.drop('OperatingSystem', axis=1, inplace=True)\n",
    "    \n",
    "    counter = {}\n",
    "    for key, value in data.iteritems():\n",
    "        for i in value:\n",
    "            if i in counter:\n",
    "                counter[i] += 1\n",
    "            else:\n",
    "                counter[i] = 1\n",
    "                \n",
    "    sorted_counter = [(value, key) for key, value in counter.items()]\n",
    "    sorted_counter.sort(reverse=True)\n",
    "    \n",
    "    return sorted_counter[:top_n]"
   ]
  },
  {
   "cell_type": "code",
   "execution_count": 229,
   "metadata": {},
   "outputs": [],
   "source": [
    "def create_df():\n",
    "    \"\"\"Reorder list of tuples per OS\"\"\"\n",
    "    \n",
    "    os = ['Windows', 'Macintosh', 'Linux']\n",
    "    \n",
    "    os_name = []\n",
    "    count = []\n",
    "    tz = []\n",
    "    for i in os:\n",
    "        for j in get_os_counts(frame, i, 5):\n",
    "            os_name.append(i)\n",
    "            count.append(j[0])\n",
    "            tz.append(j[1])\n",
    "\n",
    "    \n",
    "    df = pd.DataFrame({'Timezone' : tz, 'Count' : count, 'OperatingSystem' : os_name})\n",
    "    \n",
    "    return df"
   ]
  },
  {
   "cell_type": "code",
   "execution_count": 230,
   "metadata": {},
   "outputs": [
    {
     "data": {
      "text/plain": [
       "(array([0, 1, 2, 3, 4, 5, 6]), <a list of 7 Text xticklabel objects>)"
      ]
     },
     "execution_count": 230,
     "metadata": {},
     "output_type": "execute_result"
    },
    {
     "data": {
      "image/png": "[encoded data removed]",
      "text/plain": [
       "<Figure size 454.875x360 with 1 Axes>"
      ]
     },
     "metadata": {
      "needs_background": "light"
     },
     "output_type": "display_data"
    }
   ],
   "source": [
    "# Top 5 Time Zones per Operating System\n",
    "\n",
    "df = create_df()\n",
    "\n",
    "sns.catplot(x='Timezone', y='Count', hue='OperatingSystem', kind='bar', palette='bright', data=df)\n",
    "plt.xticks(rotation=90)"
   ]
  },
  {
   "cell_type": "code",
   "execution_count": null,
   "metadata": {},
   "outputs": [],
   "source": []
  }
 ],
 "metadata": {
  "kernelspec": {
   "display_name": "Python 3",
   "language": "python",
   "name": "python3"
  },
  "language_info": {
   "codemirror_mode": {
    "name": "ipython",
    "version": 3
   },
   "file_extension": ".py",
   "mimetype": "text/x-python",
   "name": "python",
   "nbconvert_exporter": "python",
   "pygments_lexer": "ipython3",
   "version": "3.6.6"
  }
 },
 "nbformat": 4,
 "nbformat_minor": 2
}
