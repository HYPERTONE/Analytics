{
 "cells": [
  {
   "cell_type": "code",
   "execution_count": 1,
   "metadata": {},
   "outputs": [],
   "source": [
    "import pandas as pd\n",
    "import numpy as np\n",
    "import seaborn as sns\n",
    "import matplotlib.pyplot as plt\n",
    "%matplotlib inline\n",
    "%config InlineBackend.figure_format = 'retina'"
   ]
  },
  {
   "cell_type": "code",
   "execution_count": 2,
   "metadata": {},
   "outputs": [
    {
     "name": "stdout",
     "output_type": "stream",
     "text": [
      "Shape: (6738, 9)\n"
     ]
    }
   ],
   "source": [
    "retail = pd.read_excel(r'OMITTED', sheet_name='Sheet1')\n",
    "\n",
    "print(\"Shape: {}\".format(retail.shape))"
   ]
  },
  {
   "cell_type": "code",
   "execution_count": null,
   "metadata": {
    "scrolled": true
   },
   "outputs": [],
   "source": [
    "retail.head()"
   ]
  },
  {
   "cell_type": "markdown",
   "metadata": {},
   "source": [
    "# Objectives\n",
    "1. Determine the number of stores per state.\n",
    "2. What cities/states have the most stores?\n",
    "3. Cluster stores in various cities to see how they are distributed.\n",
    "4. Forecast improvements based on clusters"
   ]
  },
  {
   "cell_type": "code",
   "execution_count": 4,
   "metadata": {},
   "outputs": [],
   "source": [
    "states = {\n",
    "        'AK': 'Alaska',\n",
    "        'AL': 'Alabama',\n",
    "        'AR': 'Arkansas',\n",
    "        'AS': 'American Samoa',\n",
    "        'AZ': 'Arizona',\n",
    "        'CA': 'California',\n",
    "        'CO': 'Colorado',\n",
    "        'CT': 'Connecticut',\n",
    "        'DC': 'District of Columbia',\n",
    "        'DE': 'Delaware',\n",
    "        'FL': 'Florida',\n",
    "        'GA': 'Georgia',\n",
    "        'GU': 'Guam',\n",
    "        'HI': 'Hawaii',\n",
    "        'IA': 'Iowa',\n",
    "        'ID': 'Idaho',\n",
    "        'IL': 'Illinois',\n",
    "        'IN': 'Indiana',\n",
    "        'KS': 'Kansas',\n",
    "        'KY': 'Kentucky',\n",
    "        'LA': 'Louisiana',\n",
    "        'MA': 'Massachusetts',\n",
    "        'MD': 'Maryland',\n",
    "        'ME': 'Maine',\n",
    "        'MI': 'Michigan',\n",
    "        'MN': 'Minnesota',\n",
    "        'MO': 'Missouri',\n",
    "        'MP': 'Northern Mariana Islands',\n",
    "        'MS': 'Mississippi',\n",
    "        'MT': 'Montana',\n",
    "        'NA': 'National',\n",
    "        'NC': 'North Carolina',\n",
    "        'ND': 'North Dakota',\n",
    "        'NE': 'Nebraska',\n",
    "        'NH': 'New Hampshire',\n",
    "        'NJ': 'New Jersey',\n",
    "        'NM': 'New Mexico',\n",
    "        'NV': 'Nevada',\n",
    "        'NY': 'New York',\n",
    "        'OH': 'Ohio',\n",
    "        'OK': 'Oklahoma',\n",
    "        'OR': 'Oregon',\n",
    "        'PA': 'Pennsylvania',\n",
    "        'PR': 'Puerto Rico',\n",
    "        'RI': 'Rhode Island',\n",
    "        'SC': 'South Carolina',\n",
    "        'SD': 'South Dakota',\n",
    "        'TN': 'Tennessee',\n",
    "        'TX': 'Texas',\n",
    "        'UT': 'Utah',\n",
    "        'VA': 'Virginia',\n",
    "        'VI': 'Virgin Islands',\n",
    "        'VT': 'Vermont',\n",
    "        'WA': 'Washington',\n",
    "        'WI': 'Wisconsin',\n",
    "        'WV': 'West Virginia',\n",
    "        'WY': 'Wyoming'\n",
    "}\n",
    "\n",
    "# Determine full state name \n",
    "att_state_names = []\n",
    "for key, value in retail['STATE'].iteritems():\n",
    "    att_state_names.append(states[value])\n",
    "    \n",
    "# Add full state names to dataframe\n",
    "retail['STATE_NAME'] = att_state_names"
   ]
  },
  {
   "cell_type": "code",
   "execution_count": null,
   "metadata": {
    "scrolled": true
   },
   "outputs": [],
   "source": [
    "retail.tail()"
   ]
  },
  {
   "cell_type": "markdown",
   "metadata": {},
   "source": [
    "## Number of stores per state:"
   ]
  },
  {
   "cell_type": "code",
   "execution_count": null,
   "metadata": {
    "scrolled": true
   },
   "outputs": [],
   "source": [
    "c = sns.countplot(x=retail['STATE_NAME'], label='Count')\n",
    "c.set_xticklabels(c.get_xticklabels(), rotation=90, size=8)\n",
    "plt.show()"
   ]
  },
  {
   "cell_type": "markdown",
   "metadata": {},
   "source": [
    "## States with most stores (Top 10)"
   ]
  },
  {
   "cell_type": "code",
   "execution_count": null,
   "metadata": {
    "scrolled": true
   },
   "outputs": [],
   "source": [
    "retail.groupby('STATE_NAME').size().sort_values(ascending=False)[:10]"
   ]
  },
  {
   "cell_type": "markdown",
   "metadata": {},
   "source": [
    "## Cities with most stores (Top 10):"
   ]
  },
  {
   "cell_type": "code",
   "execution_count": null,
   "metadata": {
    "scrolled": true
   },
   "outputs": [],
   "source": [
    "retail.groupby('CITY').size().sort_values(ascending=False)[:10]"
   ]
  },
  {
   "cell_type": "markdown",
   "metadata": {},
   "source": [
    "## Plot all stores in Houston"
   ]
  },
  {
   "cell_type": "code",
   "execution_count": 9,
   "metadata": {},
   "outputs": [],
   "source": [
    "import matplotlib.pyplot as plt\n",
    "import matplotlib.cm\n",
    " \n",
    "from mpl_toolkits.basemap import Basemap\n",
    "from matplotlib.patches import Polygon\n",
    "from matplotlib.collections import PatchCollection\n",
    "from matplotlib.colors import Normalize"
   ]
  },
  {
   "cell_type": "code",
   "execution_count": 10,
   "metadata": {},
   "outputs": [
    {
     "name": "stdout",
     "output_type": "stream",
     "text": [
      "Number of stores in Houston: 53\n"
     ]
    }
   ],
   "source": [
    "Houston = retail.loc[retail['CITY'] == 'HOUSTON']\n",
    "print(\"Number of stores in Houston: {}\".format(Houston.shape[0]))"
   ]
  },
  {
   "cell_type": "code",
   "execution_count": 11,
   "metadata": {},
   "outputs": [],
   "source": [
    "# Create numpy arrays of lat/long data\n",
    "h_lat = Houston['LATITUDE'].values\n",
    "h_lon = Houston['LONGITUDE'].values"
   ]
  },
  {
   "cell_type": "code",
   "execution_count": null,
   "metadata": {
    "scrolled": true
   },
   "outputs": [],
   "source": [
    "# Obtain lat/long of Houston via --> http://boundingbox.klokantech.com/\n",
    "# westlimit=-95.909744; southlimit=29.537071; eastlimit=-95.012054; northlimit=30.11035 (Houston, TX)\n",
    "fig = plt.figure(figsize=(12,8), dpi=500, edgecolor='k', facecolor='w')\n",
    "m = Basemap(resolution = 'l', projection = 'cyl', llcrnrlon = -95.909744, \n",
    "            llcrnrlat = 29.537071, urcrnrlon = -95.012054, urcrnrlat = 30.11035, \n",
    "            epsg = 3395)\n",
    "m.scatter(h_lon, h_lat, latlon=True, s=60, edgecolor='k', linewidths=1)\n",
    "m.arcgisimage(service='ESRI_StreetMap_World_2D', xpixels=2000)\n",
    "plt.savefig(r'OMITTED', bbox_inches = \"tight\", dpi = 500)"
   ]
  },
  {
   "cell_type": "markdown",
   "metadata": {},
   "source": [
    "## Apply clusterization to Houston data"
   ]
  },
  {
   "cell_type": "code",
   "execution_count": 13,
   "metadata": {},
   "outputs": [],
   "source": [
    "from sklearn.cluster import DBSCAN\n",
    "\n",
    "# Determine 'eps' parameter threshold\n",
    "\n",
    "# Radius of earth = 3359 miles\n",
    "miles_per_radian = 3359 \n",
    "\n",
    "# define epsilon to be 3 miles, then convert to radians to be used by haversine\n",
    "epsilon = 3 / miles_per_radian\n",
    "\n",
    "# Create array of coordinates \n",
    "houston_coords = Houston[['LATITUDE', 'LONGITUDE']].values"
   ]
  },
  {
   "cell_type": "code",
   "execution_count": 14,
   "metadata": {},
   "outputs": [
    {
     "data": {
      "text/plain": [
       "DBSCAN(algorithm='ball_tree', eps=0.0008931229532598987, leaf_size=30,\n",
       "    metric='haversine', metric_params=None, min_samples=3, n_jobs=1,\n",
       "    p=None)"
      ]
     },
     "execution_count": 14,
     "metadata": {},
     "output_type": "execute_result"
    }
   ],
   "source": [
    "# Haversine is used for spherical; Input must therefore be in radians\n",
    "db = DBSCAN(eps=epsilon, min_samples=3, algorithm='ball_tree', metric='haversine')\n",
    "db.fit(np.radians(houston_coords))"
   ]
  },
  {
   "cell_type": "code",
   "execution_count": 15,
   "metadata": {},
   "outputs": [
    {
     "name": "stdout",
     "output_type": "stream",
     "text": [
      "Names of unique clusters: {0, 1, -1}\n",
      "Number of clusters: 3\n"
     ]
    }
   ],
   "source": [
    "# Cluster labels\n",
    "cluster_labels = db.labels_\n",
    "\n",
    "# Names of unique cluster labels\n",
    "unique_labels = set(cluster_labels)\n",
    "\n",
    "# Total number of clusters generated\n",
    "number_of_cluster = len(set(cluster_labels))\n",
    "\n",
    "print(\"Names of unique clusters: {}\\nNumber of clusters: {}\".format(unique_labels, number_of_cluster))"
   ]
  },
  {
   "cell_type": "code",
   "execution_count": null,
   "metadata": {},
   "outputs": [],
   "source": [
    "# Plot clusters on city map\n",
    "fig = plt.figure(figsize=(12,8), dpi=500, edgecolor='k', facecolor='w')\n",
    "\n",
    "# Create color wheel for the number of clusters\n",
    "colors = plt.cm.rainbow(np.linspace(0, 1, len(unique_labels)), alpha=0.5)\n",
    "\n",
    "m = Basemap(resolution = 'l', projection = 'cyl', llcrnrlon = -95.909744, \n",
    "            llcrnrlat = 29.537071, urcrnrlon = -95.012054, urcrnrlat = 30.11035, \n",
    "            epsg = 3395)\n",
    "\n",
    "for cluster_label, color  in zip(unique_labels, colors):\n",
    "    # Mark the noise as red\n",
    "    if cluster_label == -1:\n",
    "        color = 'red'\n",
    "\n",
    "    \n",
    "    # Plot the points that match the cluster labels based on their index\n",
    "    # Latitude can be positive and negative (north and south of equator) -- Y axis\n",
    "    x_coords = houston_coords[cluster_labels==cluster_label][:,1] #lat\n",
    "    y_coords = houston_coords[cluster_labels==cluster_label][:,0] #lon\n",
    "    \n",
    "    m.scatter(x=x_coords, y=y_coords, latlon=True, c=color, s=60, alpha=1.0, edgecolor='k', linewidths=1)\n",
    "    \n",
    "m.arcgisimage(service='ESRI_StreetMap_World_2D', xpixels=2000)\n",
    "\n",
    "plt.savefig(r'\\Houston_Cluster.png', bbox_inches = \"tight\", dpi = 500)"
   ]
  }
 ],
 "metadata": {
  "kernelspec": {
   "display_name": "Python 3",
   "language": "python",
   "name": "python3"
  },
  "language_info": {
   "codemirror_mode": {
    "name": "ipython",
    "version": 3
   },
   "file_extension": ".py",
   "mimetype": "text/x-python",
   "name": "python",
   "nbconvert_exporter": "python",
   "pygments_lexer": "ipython3",
   "version": "3.7.0"
  }
 },
 "nbformat": 4,
 "nbformat_minor": 2
}
