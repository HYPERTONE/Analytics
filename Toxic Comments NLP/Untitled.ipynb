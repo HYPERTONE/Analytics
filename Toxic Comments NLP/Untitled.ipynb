{
 "cells": [
  {
   "cell_type": "code",
   "execution_count": 19,
   "metadata": {},
   "outputs": [],
   "source": [
    "import pandas as pd\n",
    "import numpy as np\n",
    "from scipy.sparse import hstack\n",
    "import matplotlib.pyplot as plt \n",
    "\n",
    "from sklearn.linear_model import LogisticRegression\n",
    "from sklearn.feature_extraction.text import TfidfVectorizer\n",
    "from sklearn.model_selection import cross_val_score\n",
    "from sklearn.model_selection import cross_validate\n",
    "from sklearn.model_selection import train_test_split\n",
    "from sklearn import metrics"
   ]
  },
  {
   "cell_type": "code",
   "execution_count": 2,
   "metadata": {},
   "outputs": [],
   "source": [
    "# Load data\n",
    "\n",
    "train = pd.read_csv(r'train.csv')\n",
    "test = pd.read_csv(r'test.csv')"
   ]
  },
  {
   "cell_type": "code",
   "execution_count": 3,
   "metadata": {},
   "outputs": [],
   "source": [
    "# Combine comments for processing\n",
    "\n",
    "train_comments = train['comment_text']\n",
    "test_comments = train['comment_text']\n",
    "allComments = pd.concat([train_comments, test_comments])"
   ]
  },
  {
   "cell_type": "code",
   "execution_count": 4,
   "metadata": {},
   "outputs": [
    {
     "data": {
      "text/plain": [
       "TfidfVectorizer(analyzer='word', binary=False, decode_error='strict',\n",
       "        dtype=<class 'numpy.int64'>, encoding='utf-8', input='content',\n",
       "        lowercase=True, max_df=1.0, max_features=10000, min_df=1,\n",
       "        ngram_range=(1, 1), norm='l2', preprocessor=None, smooth_idf=True,\n",
       "        stop_words='english', strip_accents='unicode', sublinear_tf=True,\n",
       "        token_pattern='\\\\w{1,}', tokenizer=None, use_idf=True,\n",
       "        vocabulary=None)"
      ]
     },
     "execution_count": 4,
     "metadata": {},
     "output_type": "execute_result"
    }
   ],
   "source": [
    "# Vectorize words\n",
    "\n",
    "word_vectorizer = TfidfVectorizer(\n",
    "    sublinear_tf=True,\n",
    "    strip_accents='unicode',\n",
    "    analyzer='word',\n",
    "    token_pattern=r'\\w{1,}',\n",
    "    stop_words='english',\n",
    "    ngram_range=(1, 1),\n",
    "    max_features=10000\n",
    ")\n",
    "\n",
    "word_vectorizer.fit(allComments)"
   ]
  },
  {
   "cell_type": "code",
   "execution_count": 18,
   "metadata": {},
   "outputs": [
    {
     "data": {
      "text/plain": [
       "TfidfVectorizer(analyzer='char', binary=False, decode_error='strict',\n",
       "        dtype=<class 'numpy.int64'>, encoding='utf-8', input='content',\n",
       "        lowercase=True, max_df=1.0, max_features=10000, min_df=1,\n",
       "        ngram_range=(2, 6), norm='l2', preprocessor=None, smooth_idf=True,\n",
       "        stop_words='english', strip_accents='unicode', sublinear_tf=True,\n",
       "        token_pattern='(?u)\\\\b\\\\w\\\\w+\\\\b', tokenizer=None, use_idf=True,\n",
       "        vocabulary=None)"
      ]
     },
     "execution_count": 18,
     "metadata": {},
     "output_type": "execute_result"
    }
   ],
   "source": [
    "# Vectorized characters\n",
    "\n",
    "char_vectorizer = TfidfVectorizer(\n",
    "    sublinear_tf=True,\n",
    "    strip_accents='unicode',\n",
    "    analyzer='char',\n",
    "    stop_words='english',\n",
    "    ngram_range=(2, 6),\n",
    "    max_features=10000\n",
    ")\n",
    "\n",
    "char_vectorizer.fit(allComments)"
   ]
  },
  {
   "cell_type": "code",
   "execution_count": 20,
   "metadata": {},
   "outputs": [],
   "source": [
    "# Transform fitted data\n",
    "train_word_features = word_vectorizer.transform(train_comments)\n",
    "test_word_features = word_vectorizer.transform(test_comments)\n",
    "\n",
    "train_char_features = char_vectorizer.transform(train_comments)\n",
    "test_char_features = char_vectorizer.transform(test_comments)"
   ]
  },
  {
   "cell_type": "code",
   "execution_count": 21,
   "metadata": {},
   "outputs": [],
   "source": [
    "# Combine both word_vectorized and char_vectorized data\n",
    "\n",
    "train_features = hstack([train_word_features, train_char_features])\n",
    "test_features = hstack([test_char_features, test_char_features])"
   ]
  },
  {
   "cell_type": "code",
   "execution_count": 6,
   "metadata": {},
   "outputs": [],
   "source": [
    "train_target = train.toxic"
   ]
  },
  {
   "cell_type": "code",
   "execution_count": 7,
   "metadata": {},
   "outputs": [],
   "source": [
    "# Method 1: Using cross_val_score \n",
    "\n",
    "# cross_val_score is a helper function on the estimator and the dataset \n",
    "# (where cv will output estimate scores)\n",
    "\n",
    "def cvs(classifier, trainingSet, testingSet, split=3):\n",
    "    cv = cross_val_score(classifier, trainingSet, testingSet, cv=split, scoring='roc_auc')\n",
    "    \n",
    "    m = np.mean(cv)\n",
    "    return cv, m"
   ]
  },
  {
   "cell_type": "code",
   "execution_count": 22,
   "metadata": {},
   "outputs": [
    {
     "data": {
      "text/plain": [
       "(array([0.97760002, 0.97531257, 0.97703697]), 0.9766498517590015)"
      ]
     },
     "execution_count": 22,
     "metadata": {},
     "output_type": "execute_result"
    }
   ],
   "source": [
    "cvs(LogisticRegression(random_state=42), train_features, train_target)"
   ]
  },
  {
   "cell_type": "code",
   "execution_count": 10,
   "metadata": {},
   "outputs": [
    {
     "data": {
      "text/plain": [
       "(array([0.96935283, 0.96679725, 0.96782919]), 0.9679930896083148)"
      ]
     },
     "execution_count": 10,
     "metadata": {},
     "output_type": "execute_result"
    }
   ],
   "source": [
    "cvs(LogisticRegression(random_state=42), train_word_features, train_target)"
   ]
  },
  {
   "cell_type": "code",
   "execution_count": 8,
   "metadata": {},
   "outputs": [],
   "source": [
    "# Method 2: Using Cross Validate \n",
    "\n",
    "# cross_validate allows specifying multiple metrics for evaluation\n",
    "# and returns a dict containing the training scores, fit-times, \n",
    "# and score-times in addition to test score\n",
    "\n",
    "def cv(classifier, trainingSet, testingSet, split=3):\n",
    "    cv2 = cross_validate(classifier, train_word_features, train_target, cv=3, scoring='roc_auc')\n",
    "\n",
    "    m = np.mean(cv2['test_score'])\n",
    "#     print(cv2)\n",
    "\n",
    "    return cv2['test_score'], m\n",
    "\n"
   ]
  },
  {
   "cell_type": "code",
   "execution_count": 11,
   "metadata": {},
   "outputs": [
    {
     "data": {
      "text/plain": [
       "(array([0.96935283, 0.96679725, 0.96782919]), 0.9679930896083148)"
      ]
     },
     "execution_count": 11,
     "metadata": {},
     "output_type": "execute_result"
    }
   ],
   "source": [
    "cv(LogisticRegression(random_state=42), train_word_features, train_target)"
   ]
  },
  {
   "cell_type": "code",
   "execution_count": 16,
   "metadata": {},
   "outputs": [],
   "source": [
    "# Method 3: Using standard train_test_split\n",
    "\n",
    "def tts(classifier, trainingSet, testingSet, size=0.33):\n",
    "    X_train, X_test, y_train, y_test = train_test_split(trainingSet, testingSet, test_size=0.33, random_state=42)\n",
    "#     X_train, X_test, y_train, y_test = train_test_split(train_word_features, train_target, test_size=0.33, random_state=42)\n",
    "\n",
    "    clf = classifier\n",
    "    clf.fit(X_train, y_train)\n",
    "    y_pred = clf.predict(X_test)\n",
    "    \n",
    "    # Accuracy\n",
    "    acc = metrics.accuracy_score(y_test, y_pred)\n",
    "    \n",
    "    # Return probability estimates, where a matrix of (N,2) is returned.\n",
    "    # The first value is the probability of toxic = 0, second is toxic = 1. \n",
    "    # Their sum will equal 1.\n",
    "\n",
    "    # We want the 2nd column (toxic = 1)\n",
    "    y_pred_proba = clf.predict_proba(X_test)[::, 1]\n",
    "\n",
    "    fpr, tpr, _ = metrics.roc_curve(y_test, y_pred_proba)\n",
    "    auc = metrics.roc_auc_score(y_test, y_pred_proba)\n",
    "\n",
    "    plt.plot(fpr, tpr, label=\"AUC = {:.2%}\".format(auc))\n",
    "    plt.title('ROC')\n",
    "    plt.legend()\n",
    "    plt.show()\n",
    "    \n",
    "    return acc\n",
    "    "
   ]
  },
  {
   "cell_type": "code",
   "execution_count": 50,
   "metadata": {},
   "outputs": [
    {
     "data": {
      "image/png": "[encoded data removed]",
      "text/plain": [
       "<Figure size 432x288 with 1 Axes>"
      ]
     },
     "metadata": {
      "needs_background": "light"
     },
     "output_type": "display_data"
    },
    {
     "data": {
      "text/plain": [
       "0.9562467954195863"
      ]
     },
     "execution_count": 50,
     "metadata": {},
     "output_type": "execute_result"
    }
   ],
   "source": [
    "train_target = train.toxic\n",
    "\n",
    "tts(LogisticRegression(random_state=42), train_word_features, train_target)"
   ]
  },
  {
   "cell_type": "code",
   "execution_count": null,
   "metadata": {},
   "outputs": [],
   "source": []
  },
  {
   "cell_type": "code",
   "execution_count": 25,
   "metadata": {},
   "outputs": [],
   "source": []
  },
  {
   "cell_type": "code",
   "execution_count": 31,
   "metadata": {},
   "outputs": [
    {
     "name": "stdout",
     "output_type": "stream",
     "text": [
      "Label: toxic\n",
      "Score: 97.665%\n",
      "Label: severe_toxic\n",
      "Score: 98.843%\n",
      "Label: obscene\n",
      "Score: 98.938%\n",
      "Label: threat\n",
      "Score: 98.901%\n",
      "Label: insult\n",
      "Score: 98.139%\n",
      "Label: identity_hate\n",
      "Score: 98.192%\n"
     ]
    }
   ],
   "source": [
    "# Apply to all classifications\n",
    "\n",
    "TARGET_COLUMNS = ['toxic', 'severe_toxic', 'obscene', 'threat', 'insult', 'identity_hate']\n",
    "\n",
    "for target in TARGET_COLUMNS:\n",
    "    train_target = train[target]\n",
    "    s = cvs(LogisticRegression(random_state=42), train_features, train_target)\n",
    "    print('Label: {}\\nScore: {:.3%}'.format(target, s[1]))"
   ]
  },
  {
   "cell_type": "code",
   "execution_count": null,
   "metadata": {},
   "outputs": [],
   "source": []
  },
  {
   "cell_type": "code",
   "execution_count": 51,
   "metadata": {},
   "outputs": [],
   "source": [
    "from sklearn.svm import SVC"
   ]
  },
  {
   "cell_type": "code",
   "execution_count": null,
   "metadata": {},
   "outputs": [],
   "source": [
    "train_target = train.toxic\n",
    "\n",
    "svm = SVC(kernel='rbf')\n",
    "\n",
    "tts(svm, train_features, train_target)"
   ]
  },
  {
   "cell_type": "code",
   "execution_count": null,
   "metadata": {},
   "outputs": [],
   "source": []
  }
 ],
 "metadata": {
  "kernelspec": {
   "display_name": "Python 3",
   "language": "python",
   "name": "python3"
  },
  "language_info": {
   "codemirror_mode": {
    "name": "ipython",
    "version": 3
   },
   "file_extension": ".py",
   "mimetype": "text/x-python",
   "name": "python",
   "nbconvert_exporter": "python",
   "pygments_lexer": "ipython3",
   "version": "3.7.0"
  }
 },
 "nbformat": 4,
 "nbformat_minor": 2
}
