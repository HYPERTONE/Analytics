{
 "cells": [
  {
   "cell_type": "code",
   "execution_count": 1,
   "metadata": {},
   "outputs": [],
   "source": [
    "import pandas as pd\n",
    "import numpy as np\n",
    "from scipy.sparse import hstack\n",
    "import matplotlib.pyplot as plt \n",
    "import re\n",
    "\n",
    "from sklearn.linear_model import LogisticRegression\n",
    "from sklearn.feature_extraction.text import TfidfVectorizer\n",
    "from sklearn.model_selection import cross_val_score\n",
    "from sklearn.model_selection import cross_validate\n",
    "from sklearn.model_selection import train_test_split\n",
    "\n",
    "from sklearn import metrics "
   ]
  },
  {
   "cell_type": "code",
   "execution_count": 2,
   "metadata": {},
   "outputs": [],
   "source": [
    "# Load data\n",
    "\n",
    "train = pd.read_csv(r'train.csv')\n",
    "test = pd.read_csv(r'test.csv')"
   ]
  },
  {
   "cell_type": "code",
   "execution_count": 3,
   "metadata": {},
   "outputs": [],
   "source": [
    "# Combine comments for processing\n",
    "\n",
    "train_comments = train['comment_text']\n",
    "test_comments = train['comment_text']\n",
    "allComments = pd.concat([train_comments, test_comments])"
   ]
  },
  {
   "cell_type": "code",
   "execution_count": 4,
   "metadata": {},
   "outputs": [
    {
     "data": {
      "text/plain": [
       "TfidfVectorizer(analyzer='word', binary=False, decode_error='strict',\n",
       "                dtype=<class 'numpy.float64'>, encoding='utf-8',\n",
       "                input='content', lowercase=True, max_df=1.0, max_features=10000,\n",
       "                min_df=1, ngram_range=(1, 1), norm='l2', preprocessor=None,\n",
       "                smooth_idf=True, stop_words='english', strip_accents='unicode',\n",
       "                sublinear_tf=True, token_pattern='\\\\w{1,}', tokenizer=None,\n",
       "                use_idf=True, vocabulary=None)"
      ]
     },
     "execution_count": 4,
     "metadata": {},
     "output_type": "execute_result"
    }
   ],
   "source": [
    "# Vectorize words\n",
    "\n",
    "word_vectorizer = TfidfVectorizer(\n",
    "    sublinear_tf=True,\n",
    "    strip_accents='unicode',\n",
    "    analyzer='word',\n",
    "    token_pattern=r'\\w{1,}',\n",
    "    stop_words='english',\n",
    "    ngram_range=(1, 1),\n",
    "    max_features=10000\n",
    ")\n",
    "\n",
    "word_vectorizer.fit(allComments)"
   ]
  },
  {
   "cell_type": "code",
   "execution_count": 5,
   "metadata": {},
   "outputs": [
    {
     "data": {
      "text/plain": [
       "TfidfVectorizer(analyzer='char', binary=False, decode_error='strict',\n",
       "                dtype=<class 'numpy.float64'>, encoding='utf-8',\n",
       "                input='content', lowercase=True, max_df=1.0, max_features=10000,\n",
       "                min_df=1, ngram_range=(2, 6), norm='l2', preprocessor=None,\n",
       "                smooth_idf=True, stop_words='english', strip_accents='unicode',\n",
       "                sublinear_tf=True, token_pattern='(?u)\\\\b\\\\w\\\\w+\\\\b',\n",
       "                tokenizer=None, use_idf=True, vocabulary=None)"
      ]
     },
     "execution_count": 5,
     "metadata": {},
     "output_type": "execute_result"
    }
   ],
   "source": [
    "# Vectorized characters\n",
    "\n",
    "char_vectorizer = TfidfVectorizer(\n",
    "    sublinear_tf=True,\n",
    "    strip_accents='unicode',\n",
    "    analyzer='char',\n",
    "    stop_words='english',\n",
    "    ngram_range=(2, 6),\n",
    "    max_features=10000\n",
    ")\n",
    "\n",
    "char_vectorizer.fit(allComments)"
   ]
  },
  {
   "cell_type": "code",
   "execution_count": 6,
   "metadata": {},
   "outputs": [],
   "source": [
    "# Transform fitted data\n",
    "train_word_features = word_vectorizer.transform(train_comments)\n",
    "test_word_features = word_vectorizer.transform(test_comments)\n",
    "\n",
    "train_char_features = char_vectorizer.transform(train_comments)\n",
    "test_char_features = char_vectorizer.transform(test_comments)"
   ]
  },
  {
   "cell_type": "code",
   "execution_count": 7,
   "metadata": {},
   "outputs": [],
   "source": [
    "# Combine both word_vectorized and char_vectorized data\n",
    "\n",
    "train_features = hstack([train_word_features, train_char_features])\n",
    "test_features = hstack([test_char_features, test_char_features])"
   ]
  },
  {
   "cell_type": "code",
   "execution_count": 9,
   "metadata": {},
   "outputs": [
    {
     "ename": "IndexError",
     "evalue": "only integers, slices (`:`), ellipsis (`...`), numpy.newaxis (`None`) and integer or boolean arrays are valid indices",
     "output_type": "error",
     "traceback": [
      "\u001b[1;31m---------------------------------------------------------------------------\u001b[0m",
      "\u001b[1;31mIndexError\u001b[0m                                Traceback (most recent call last)",
      "\u001b[1;32m<ipython-input-9-4caac19be5a1>\u001b[0m in \u001b[0;36m<module>\u001b[1;34m\u001b[0m\n\u001b[0;32m     11\u001b[0m \u001b[1;33m\u001b[0m\u001b[0m\n\u001b[0;32m     12\u001b[0m \u001b[0mtrain_target\u001b[0m \u001b[1;33m=\u001b[0m \u001b[0mtrain\u001b[0m\u001b[1;33m.\u001b[0m\u001b[0mtoxic\u001b[0m\u001b[1;33m\u001b[0m\u001b[1;33m\u001b[0m\u001b[0m\n\u001b[1;32m---> 13\u001b[1;33m \u001b[0mcvs\u001b[0m\u001b[1;33m(\u001b[0m\u001b[0mLogisticRegression\u001b[0m\u001b[1;33m(\u001b[0m\u001b[0mC\u001b[0m\u001b[1;33m=\u001b[0m\u001b[1;36m3\u001b[0m\u001b[1;33m,\u001b[0m \u001b[0msolver\u001b[0m\u001b[1;33m=\u001b[0m\u001b[1;34m'liblinear'\u001b[0m\u001b[1;33m,\u001b[0m \u001b[0mrandom_state\u001b[0m\u001b[1;33m=\u001b[0m\u001b[1;36m42\u001b[0m\u001b[1;33m)\u001b[0m\u001b[1;33m,\u001b[0m \u001b[0mtrain_features\u001b[0m\u001b[1;33m,\u001b[0m \u001b[0mtrain_target\u001b[0m\u001b[1;33m)\u001b[0m\u001b[1;33m\u001b[0m\u001b[1;33m\u001b[0m\u001b[0m\n\u001b[0m\u001b[0;32m     14\u001b[0m \u001b[1;31m# cvs(LogisticRegression(random_state=42), train_word_features, train_target)\u001b[0m\u001b[1;33m\u001b[0m\u001b[1;33m\u001b[0m\u001b[1;33m\u001b[0m\u001b[0m\n",
      "\u001b[1;32m<ipython-input-9-4caac19be5a1>\u001b[0m in \u001b[0;36mcvs\u001b[1;34m(classifier, trainingSet, testingSet, split)\u001b[0m\n\u001b[0;32m      7\u001b[0m     \u001b[0mcv\u001b[0m \u001b[1;33m=\u001b[0m \u001b[0mcross_val_score\u001b[0m\u001b[1;33m(\u001b[0m\u001b[0mclassifier\u001b[0m\u001b[1;33m,\u001b[0m \u001b[0mtrainingSet\u001b[0m\u001b[1;33m,\u001b[0m \u001b[0mtestingSet\u001b[0m\u001b[1;33m,\u001b[0m \u001b[0mcv\u001b[0m\u001b[1;33m=\u001b[0m\u001b[0msplit\u001b[0m\u001b[1;33m,\u001b[0m \u001b[0mscoring\u001b[0m\u001b[1;33m=\u001b[0m\u001b[1;34m'roc_auc'\u001b[0m\u001b[1;33m)\u001b[0m\u001b[1;33m\u001b[0m\u001b[1;33m\u001b[0m\u001b[0m\n\u001b[0;32m      8\u001b[0m \u001b[1;33m\u001b[0m\u001b[0m\n\u001b[1;32m----> 9\u001b[1;33m     \u001b[1;32mreturn\u001b[0m \u001b[0mcv\u001b[0m\u001b[1;33m,\u001b[0m \u001b[1;34m\"Score: {:.2%}\"\u001b[0m\u001b[1;33m.\u001b[0m\u001b[0mformat\u001b[0m\u001b[1;33m(\u001b[0m\u001b[0mcv\u001b[0m\u001b[1;33m[\u001b[0m\u001b[1;34m'test_score'\u001b[0m\u001b[1;33m]\u001b[0m\u001b[1;33m)\u001b[0m\u001b[1;33m\u001b[0m\u001b[1;33m\u001b[0m\u001b[0m\n\u001b[0m\u001b[0;32m     10\u001b[0m \u001b[1;33m\u001b[0m\u001b[0m\n\u001b[0;32m     11\u001b[0m \u001b[1;33m\u001b[0m\u001b[0m\n",
      "\u001b[1;31mIndexError\u001b[0m: only integers, slices (`:`), ellipsis (`...`), numpy.newaxis (`None`) and integer or boolean arrays are valid indices"
     ]
    }
   ],
   "source": [
    "# Method 1: Using cross_val_score \n",
    "\n",
    "# cross_val_score is a helper function on the estimator and the dataset \n",
    "# (where cv will output estimate scores)\n",
    "\n",
    "def cvs(classifier, trainingSet, testingSet, split=3):\n",
    "    cv = cross_val_score(classifier, trainingSet, testingSet, cv=split, scoring='roc_auc')\n",
    "    \n",
    "    return cv, \"Score: {:.2%}\".format(cv['test_score'])\n",
    "\n",
    "\n",
    "train_target = train.toxic\n",
    "cvs(LogisticRegression(C=3, solver='liblinear', random_state=42), train_features, train_target)\n",
    "# cvs(LogisticRegression(random_state=42), train_word_features, train_target)"
   ]
  },
  {
   "cell_type": "code",
   "execution_count": null,
   "metadata": {},
   "outputs": [],
   "source": [
    "# Apply to all classifications\n",
    "\n",
    "TARGET_COLUMNS = ['toxic', 'severe_toxic', 'obscene', 'threat', 'insult', 'identity_hate']\n",
    "\n",
    "for target in TARGET_COLUMNS:\n",
    "    train_target = train[target]\n",
    "    s = cvs(LogisticRegression(C=3, solver='liblinear', random_state=42), train_features, train_target)\n",
    "    print('Label: {}\\nScore: {:.3%}'.format(target, s[1]))"
   ]
  },
  {
   "cell_type": "code",
   "execution_count": null,
   "metadata": {},
   "outputs": [],
   "source": []
  },
  {
   "cell_type": "code",
   "execution_count": null,
   "metadata": {},
   "outputs": [],
   "source": [
    "# Method 2: Using Cross Validate \n",
    "\n",
    "# cross_validate allows specifying multiple metrics for evaluation\n",
    "# and returns a dict containing the training scores, fit-times, \n",
    "# and score-times in addition to test score\n",
    "\n",
    "def cv(classifier, trainingSet, testingSet, split=3):\n",
    "    cv2 = cross_validate(classifier, train_word_features, train_target, cv=3, scoring=('roc_auc','neg_log_loss', 'accuracy'))\n",
    "\n",
    "#     m = np.mean(cv2['test_roc_auc'])\n",
    "\n",
    "\n",
    "    return cv2\n",
    "\n",
    "\n",
    "train_target = train.toxic\n",
    "cv(LogisticRegression(C=3, solver='liblinear', random_state=42), train_word_features, train_target)"
   ]
  },
  {
   "cell_type": "code",
   "execution_count": null,
   "metadata": {},
   "outputs": [],
   "source": []
  },
  {
   "cell_type": "code",
   "execution_count": null,
   "metadata": {},
   "outputs": [],
   "source": [
    "# Method 3: Using standard train_test_split\n",
    "\n",
    "def tts(classifier, trainingSet, testingSet, size=0.33):\n",
    "    X_train, X_test, y_train, y_test = train_test_split(trainingSet, testingSet, test_size=0.33, random_state=42)\n",
    "#     X_train, X_test, y_train, y_test = train_test_split(train_word_features, train_target, test_size=0.33, random_state=42)\n",
    "\n",
    "    clf = classifier\n",
    "    clf.fit(X_train, y_train)\n",
    "    y_pred = clf.predict(X_test)\n",
    "    \n",
    "    # Accuracy\n",
    "    acc = metrics.accuracy_score(y_test, y_pred)\n",
    "    \n",
    "    # Return probability estimates, where a matrix of (N,2) is returned.\n",
    "    # The first value is the probability of toxic = 0, second is toxic = 1. \n",
    "    # Their sum will equal 1.\n",
    "\n",
    "    # We want the 2nd column (toxic = 1)\n",
    "    y_pred_proba = clf.predict_proba(X_test)[::, 1]\n",
    "\n",
    "    fpr, tpr, _ = metrics.roc_curve(y_test, y_pred_proba)\n",
    "    auc = metrics.roc_auc_score(y_test, y_pred_proba)\n",
    "\n",
    "    plt.plot(fpr, tpr, label=\"AUC = {:.2%}\".format(auc))\n",
    "    plt.title('ROC')\n",
    "    plt.legend()\n",
    "    plt.show()\n",
    "    \n",
    "    n = metrics.log_loss(y_test, y_pred_proba)\n",
    "    print('Log Loss: {:.3%}'.format(n))\n",
    "    \n",
    "    return acc\n",
    "    \n",
    "    \n",
    "train_target = train.toxic\n",
    "tts(LogisticRegression(C=3, solver='liblinear', random_state=42), train_word_features, train_target)"
   ]
  },
  {
   "cell_type": "code",
   "execution_count": null,
   "metadata": {},
   "outputs": [],
   "source": []
  },
  {
   "cell_type": "code",
   "execution_count": null,
   "metadata": {},
   "outputs": [],
   "source": [
    "# Method #4 (Pipeline)\n",
    "\n",
    "from sklearn.pipeline import make_pipeline\n",
    "\n",
    "# Note that we are not using sparse matrices (must be iterable data for train_test_split)\n",
    "train_target = train.toxic\n",
    "X_train, X_test, y_train, y_test = train_test_split(train_comments, train_target, test_size=0.33, random_state=42)\n",
    "\n",
    "\n",
    "model = make_pipeline(TfidfVectorizer(), LogisticRegression(C=3, solver='liblinear', random_state=42))\n",
    "\n",
    "param_grid = [{'tfidf__sublinear_tf' : True,\n",
    "              'tfidf__strip_accents' : 'unicode',\n",
    "              'tfidf__analyzer' : 'word',\n",
    "              'tfidf__token_pattern' : r'\\w{1,}',\n",
    "              'tfidf__stop_words' : 'english',\n",
    "               'tfidf__ngram_range' : (1, 1),\n",
    "               'tfidf__max_features' : 10000,\n",
    "               'logit__C' : 0.1\n",
    "              }]\n",
    "\n",
    "# Fit\n",
    "model.fit(X_train, y_train)\n",
    "\n",
    "# Predict\n",
    "pred = model.predict_proba(X_test)\n",
    "\n",
    "# Metrics\n",
    "ll = metrics.log_loss(y_test, pred)\n",
    "print('Log Loss: {:.3%}'.format(ll))\n",
    "\n",
    "# y_pred_proba = model.predict_proba(X_test)[::, 1]\n",
    "fpr, tpr, _ = metrics.roc_curve(y_test, pred[::, 1])\n",
    "auc = metrics.roc_auc_score(y_test, pred[::, 1])\n",
    "print('Area Under Curve: {:.3%}'.format(auc))"
   ]
  },
  {
   "cell_type": "code",
   "execution_count": null,
   "metadata": {},
   "outputs": [],
   "source": [
    "# https://www.kaggle.com/metadist/work-like-a-pro-with-pipelines-and-feature-unions\n",
    "# https://scikit-learn.org/0.18/auto_examples/hetero_feature_union.html\n",
    "# https://datascience.stackexchange.com/questions/22813/using-tf-idf-with-other-features-in-sklearn"
   ]
  },
  {
   "cell_type": "code",
   "execution_count": null,
   "metadata": {},
   "outputs": [],
   "source": []
  }
 ],
 "metadata": {
  "kernelspec": {
   "display_name": "Python 3",
   "language": "python",
   "name": "python3"
  },
  "language_info": {
   "codemirror_mode": {
    "name": "ipython",
    "version": 3
   },
   "file_extension": ".py",
   "mimetype": "text/x-python",
   "name": "python",
   "nbconvert_exporter": "python",
   "pygments_lexer": "ipython3",
   "version": "3.7.4"
  }
 },
 "nbformat": 4,
 "nbformat_minor": 2
}
