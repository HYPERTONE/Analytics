{
 "cells": [
  {
   "cell_type": "code",
   "execution_count": 64,
   "metadata": {},
   "outputs": [],
   "source": [
    "import pandas as pd\n",
    "import numpy as np\n",
    "import matplotlib.pyplot as plt\n",
    "import seaborn as sns\n",
    "import re\n",
    "import string\n",
    "import nltk\n",
    "from nltk.corpus import stopwords\n",
    "from nltk import pos_tag\n",
    "from nltk.stem.wordnet import WordNetLemmatizer \n",
    "from nltk.tokenize import word_tokenize\n",
    "from nltk.tokenize import TweetTokenizer \n",
    "\n",
    "eng_stopwords = set(stopwords.words(\"english\"))\n",
    "tokenizer = TweetTokenizer()\n",
    "lem = WordNetLemmatizer()"
   ]
  },
  {
   "cell_type": "code",
   "execution_count": 2,
   "metadata": {},
   "outputs": [],
   "source": [
    "train = pd.read_csv(r'C:\\Users\\Nino\\Desktop\\Toxic Comments\\train.csv')\n",
    "test = pd.read_csv(r'C:\\Users\\Nino\\Desktop\\Toxic Comments\\test.csv')\n",
    "# sub = pd.read_csv(r'C:\\Users\\Nino\\Desktop\\Toxic Comments\\sample_submission.csv')"
   ]
  },
  {
   "cell_type": "code",
   "execution_count": 3,
   "metadata": {},
   "outputs": [
    {
     "data": {
      "text/html": [
       "<div>\n",
       "<style scoped>\n",
       "    .dataframe tbody tr th:only-of-type {\n",
       "        vertical-align: middle;\n",
       "    }\n",
       "\n",
       "    .dataframe tbody tr th {\n",
       "        vertical-align: top;\n",
       "    }\n",
       "\n",
       "    .dataframe thead th {\n",
       "        text-align: right;\n",
       "    }\n",
       "</style>\n",
       "<table border=\"1\" class=\"dataframe\">\n",
       "  <thead>\n",
       "    <tr style=\"text-align: right;\">\n",
       "      <th></th>\n",
       "      <th>id</th>\n",
       "      <th>comment_text</th>\n",
       "      <th>toxic</th>\n",
       "      <th>severe_toxic</th>\n",
       "      <th>obscene</th>\n",
       "      <th>threat</th>\n",
       "      <th>insult</th>\n",
       "      <th>identity_hate</th>\n",
       "    </tr>\n",
       "  </thead>\n",
       "  <tbody>\n",
       "    <tr>\n",
       "      <td>0</td>\n",
       "      <td>0000997932d777bf</td>\n",
       "      <td>Explanation\\nWhy the edits made under my usern...</td>\n",
       "      <td>0</td>\n",
       "      <td>0</td>\n",
       "      <td>0</td>\n",
       "      <td>0</td>\n",
       "      <td>0</td>\n",
       "      <td>0</td>\n",
       "    </tr>\n",
       "    <tr>\n",
       "      <td>1</td>\n",
       "      <td>000103f0d9cfb60f</td>\n",
       "      <td>D'aww! He matches this background colour I'm s...</td>\n",
       "      <td>0</td>\n",
       "      <td>0</td>\n",
       "      <td>0</td>\n",
       "      <td>0</td>\n",
       "      <td>0</td>\n",
       "      <td>0</td>\n",
       "    </tr>\n",
       "    <tr>\n",
       "      <td>2</td>\n",
       "      <td>000113f07ec002fd</td>\n",
       "      <td>Hey man, I'm really not trying to edit war. It...</td>\n",
       "      <td>0</td>\n",
       "      <td>0</td>\n",
       "      <td>0</td>\n",
       "      <td>0</td>\n",
       "      <td>0</td>\n",
       "      <td>0</td>\n",
       "    </tr>\n",
       "    <tr>\n",
       "      <td>3</td>\n",
       "      <td>0001b41b1c6bb37e</td>\n",
       "      <td>\"\\nMore\\nI can't make any real suggestions on ...</td>\n",
       "      <td>0</td>\n",
       "      <td>0</td>\n",
       "      <td>0</td>\n",
       "      <td>0</td>\n",
       "      <td>0</td>\n",
       "      <td>0</td>\n",
       "    </tr>\n",
       "    <tr>\n",
       "      <td>4</td>\n",
       "      <td>0001d958c54c6e35</td>\n",
       "      <td>You, sir, are my hero. Any chance you remember...</td>\n",
       "      <td>0</td>\n",
       "      <td>0</td>\n",
       "      <td>0</td>\n",
       "      <td>0</td>\n",
       "      <td>0</td>\n",
       "      <td>0</td>\n",
       "    </tr>\n",
       "  </tbody>\n",
       "</table>\n",
       "</div>"
      ],
      "text/plain": [
       "                 id                                       comment_text  toxic  \\\n",
       "0  0000997932d777bf  Explanation\\nWhy the edits made under my usern...      0   \n",
       "1  000103f0d9cfb60f  D'aww! He matches this background colour I'm s...      0   \n",
       "2  000113f07ec002fd  Hey man, I'm really not trying to edit war. It...      0   \n",
       "3  0001b41b1c6bb37e  \"\\nMore\\nI can't make any real suggestions on ...      0   \n",
       "4  0001d958c54c6e35  You, sir, are my hero. Any chance you remember...      0   \n",
       "\n",
       "   severe_toxic  obscene  threat  insult  identity_hate  \n",
       "0             0        0       0       0              0  \n",
       "1             0        0       0       0              0  \n",
       "2             0        0       0       0              0  \n",
       "3             0        0       0       0              0  \n",
       "4             0        0       0       0              0  "
      ]
     },
     "execution_count": 3,
     "metadata": {},
     "output_type": "execute_result"
    }
   ],
   "source": [
    "train.head()"
   ]
  },
  {
   "cell_type": "code",
   "execution_count": 4,
   "metadata": {},
   "outputs": [
    {
     "data": {
      "text/plain": [
       "id               False\n",
       "comment_text     False\n",
       "toxic            False\n",
       "severe_toxic     False\n",
       "obscene          False\n",
       "threat           False\n",
       "insult           False\n",
       "identity_hate    False\n",
       "dtype: bool"
      ]
     },
     "execution_count": 4,
     "metadata": {},
     "output_type": "execute_result"
    }
   ],
   "source": [
    "train.isnull().any()"
   ]
  },
  {
   "cell_type": "markdown",
   "metadata": {},
   "source": [
    "Some of these comments that do not have any flags are actually clean. Let's determine how many there are."
   ]
  },
  {
   "cell_type": "code",
   "execution_count": 5,
   "metadata": {},
   "outputs": [],
   "source": [
    "rowsums = train.iloc[:, 2:].sum(axis=1)\n",
    "train['clean'] = (rowsums == 0)"
   ]
  },
  {
   "cell_type": "code",
   "execution_count": 6,
   "metadata": {},
   "outputs": [
    {
     "name": "stdout",
     "output_type": "stream",
     "text": [
      "Number of clean comments: 143,346 or 89.83%\n"
     ]
    }
   ],
   "source": [
    "print('Number of clean comments: {:,} or {:.2%}'.format(train['clean'].sum(), train['clean'].sum() / train.shape[0]))"
   ]
  },
  {
   "cell_type": "code",
   "execution_count": 7,
   "metadata": {},
   "outputs": [],
   "source": [
    "# train['comment_text'].loc[train['toxic'] == 1][:1].values[0]"
   ]
  },
  {
   "cell_type": "markdown",
   "metadata": {},
   "source": [
    "Let's take a peak at some of these comments"
   ]
  },
  {
   "cell_type": "code",
   "execution_count": 8,
   "metadata": {},
   "outputs": [
    {
     "name": "stdout",
     "output_type": "stream",
     "text": [
      "[toxic] \t COCKSUCKER BEFORE YOU PISS AROUND ON MY WORK\n",
      "[severe_toxic] \t COCKSUCKER BEFORE YOU PISS AROUND ON MY WORK\n",
      "[obscene] \t COCKSUCKER BEFORE YOU PISS AROUND ON MY WORK\n",
      "[threat] \t Hi! I am back again!\n",
      "Last warning!\n",
      "Stop undoing my edits or die!\n",
      "[insult] \t COCKSUCKER BEFORE YOU PISS AROUND ON MY WORK\n",
      "[identity_hate] \t You are gay or antisemmitian? \n",
      "\n",
      "Archangel WHite Tiger\n",
      "\n",
      "Meow! Greetingshhh!\n",
      "\n",
      "Uh, there are two ways, why you do erased my comment about WW2, that holocaust was brutally slaying of Jews and not gays/Gypsys/Slavs/anyone...\n",
      "\n",
      "1 - If you are anti-semitian, than shave your head bald and go to the skinhead meetings!\n",
      "\n",
      "2 - If you doubt words of the Bible, that homosexuality is a deadly sin, make a pentagram tatoo on your forehead go to the satanistic masses with your gay pals!\n",
      "\n",
      "3 - First and last warning, you fucking gay - I won't appreciate if any more nazi shwain would write in my page! I don't wish to talk to you anymore!\n",
      "\n",
      "Beware of the Dark Side!\n",
      "[clean] \t Explanation\n",
      "Why the edits made under my username Hardcore Metallica Fan were reverted? They weren't vandalisms, just closure on some GAs after I voted at New York Dolls FAC. And please don't remove the template from the talk page since I'm retired now.89.205.38.27\n"
     ]
    }
   ],
   "source": [
    "# Display one comment from each label\n",
    "for i in train.columns[2:]:\n",
    "    print('[{}] \\t {}'.format(i, train['comment_text'].loc[train[i] == 1][:1].values[0]))"
   ]
  },
  {
   "cell_type": "markdown",
   "metadata": {},
   "source": [
    "What a bunch of meanies.\n",
    "\n",
    "It looks like a comment can have multiple classifications (ie being toxic as well as obscene and an insult)."
   ]
  },
  {
   "cell_type": "code",
   "execution_count": 9,
   "metadata": {},
   "outputs": [
    {
     "data": {
      "text/plain": [
       "Text(0.5, 0, 'Label ')"
      ]
     },
     "execution_count": 9,
     "metadata": {},
     "output_type": "execute_result"
    },
    {
     "data": {
      "image/png": "[encoded data removed]",
      "text/plain": [
       "<Figure size 1152x432 with 2 Axes>"
      ]
     },
     "metadata": {
      "needs_background": "light"
     },
     "output_type": "display_data"
    }
   ],
   "source": [
    "w = train[['toxic', 'severe_toxic', 'obscene', 'threat', 'insult', 'identity_hate']].iloc[:].sum(axis=0)\n",
    "x = train[['toxic', 'severe_toxic', 'obscene', 'threat', 'insult', 'identity_hate', 'clean']].iloc[:].sum(axis=0)\n",
    "\n",
    "\n",
    "fig, ax = plt.subplots(1,2, figsize=(16,6))\n",
    "a = sns.barplot(w.index, w.values, ax=ax[0])\n",
    "b = sns.barplot(x.index, x.values, ax=ax[1])\n",
    "\n",
    "rects = b.patches\n",
    "labels = x.values\n",
    "for rect, label in zip(rects, labels):\n",
    "    height = rect.get_height()\n",
    "    b.text(rect.get_x() + rect.get_width() / 2, height + 5, label, ha='center', va='bottom')\n",
    "    \n",
    "rects = a.patches\n",
    "labels = x.values\n",
    "for rect, label in zip(rects, labels):\n",
    "    height = rect.get_height()\n",
    "    a.text(rect.get_x() + rect.get_width() / 2, height + 5, label, ha='center', va='bottom')\n",
    "    \n",
    "a.set_ylabel('Count', fontsize=14)\n",
    "a.set_xlabel('Label ', fontsize=14)\n",
    "b.set_xlabel('Label ', fontsize=14)"
   ]
  },
  {
   "cell_type": "markdown",
   "metadata": {},
   "source": [
    "As expected, the label counts are not evenly distributed. Toxic comments heavily outweight any other label, while threats are quite rare.\n",
    "\n",
    "However, toxic comments may have multiple labels."
   ]
  },
  {
   "cell_type": "code",
   "execution_count": 10,
   "metadata": {},
   "outputs": [
    {
     "data": {
      "text/plain": [
       "Text(0.5, 0, 'Number of multi-label counts ')"
      ]
     },
     "execution_count": 10,
     "metadata": {},
     "output_type": "execute_result"
    },
    {
     "data": {
      "image/png": "[encoded data removed]",
      "text/plain": [
       "<Figure size 1152x432 with 1 Axes>"
      ]
     },
     "metadata": {
      "needs_background": "light"
     },
     "output_type": "display_data"
    }
   ],
   "source": [
    "x = rowsums.value_counts()\n",
    "\n",
    "\n",
    "fig, ax = plt.subplots(1,1, figsize=(16,6))\n",
    "a = sns.barplot(x.index, x.values)\n",
    "\n",
    "\n",
    "rects = a.patches\n",
    "labels = x.values\n",
    "for rect, label in zip(rects, labels):\n",
    "    height = rect.get_height()\n",
    "    a.text(rect.get_x() + rect.get_width() / 2, height + 5, label, ha='center', va='bottom')\n",
    "\n",
    "a.set_title('Multiple Label Counts')\n",
    "a.set_ylabel('Count', fontsize=14)\n",
    "a.set_xlabel('Number of multi-label counts ', fontsize=14)"
   ]
  },
  {
   "cell_type": "code",
   "execution_count": 11,
   "metadata": {},
   "outputs": [
    {
     "data": {
      "text/html": [
       "<style  type=\"text/css\" >\n",
       "    #T_96ed01f4_301f_11ea_a503_18568053c9d7row0_col1 {\n",
       "            background-color:  yellow;\n",
       "        }    #T_96ed01f4_301f_11ea_a503_18568053c9d7row0_col3 {\n",
       "            background-color:  yellow;\n",
       "        }    #T_96ed01f4_301f_11ea_a503_18568053c9d7row0_col5 {\n",
       "            background-color:  yellow;\n",
       "        }    #T_96ed01f4_301f_11ea_a503_18568053c9d7row0_col7 {\n",
       "            background-color:  yellow;\n",
       "        }    #T_96ed01f4_301f_11ea_a503_18568053c9d7row0_col9 {\n",
       "            background-color:  yellow;\n",
       "        }    #T_96ed01f4_301f_11ea_a503_18568053c9d7row1_col0 {\n",
       "            background-color:  yellow;\n",
       "        }    #T_96ed01f4_301f_11ea_a503_18568053c9d7row1_col2 {\n",
       "            background-color:  yellow;\n",
       "        }    #T_96ed01f4_301f_11ea_a503_18568053c9d7row1_col4 {\n",
       "            background-color:  yellow;\n",
       "        }    #T_96ed01f4_301f_11ea_a503_18568053c9d7row1_col6 {\n",
       "            background-color:  yellow;\n",
       "        }    #T_96ed01f4_301f_11ea_a503_18568053c9d7row1_col8 {\n",
       "            background-color:  yellow;\n",
       "        }</style><table id=\"T_96ed01f4_301f_11ea_a503_18568053c9d7\" ><thead>    <tr>        <th class=\"blank level0\" ></th>        <th class=\"col_heading level0 col0\" colspan=2>severe_toxic</th>        <th class=\"col_heading level0 col2\" colspan=2>obscene</th>        <th class=\"col_heading level0 col4\" colspan=2>threat</th>        <th class=\"col_heading level0 col6\" colspan=2>insult</th>        <th class=\"col_heading level0 col8\" colspan=2>identity_hate</th>    </tr>    <tr>        <th class=\"index_name level1\" >severe_toxic</th>        <th class=\"col_heading level1 col0\" >0</th>        <th class=\"col_heading level1 col1\" >1</th>        <th class=\"col_heading level1 col2\" >0</th>        <th class=\"col_heading level1 col3\" >1</th>        <th class=\"col_heading level1 col4\" >0</th>        <th class=\"col_heading level1 col5\" >1</th>        <th class=\"col_heading level1 col6\" >0</th>        <th class=\"col_heading level1 col7\" >1</th>        <th class=\"col_heading level1 col8\" >0</th>        <th class=\"col_heading level1 col9\" >1</th>    </tr>    <tr>        <th class=\"index_name level0\" >toxic</th>        <th class=\"blank\" ></th>        <th class=\"blank\" ></th>        <th class=\"blank\" ></th>        <th class=\"blank\" ></th>        <th class=\"blank\" ></th>        <th class=\"blank\" ></th>        <th class=\"blank\" ></th>        <th class=\"blank\" ></th>        <th class=\"blank\" ></th>        <th class=\"blank\" ></th>    </tr></thead><tbody>\n",
       "                <tr>\n",
       "                        <th id=\"T_96ed01f4_301f_11ea_a503_18568053c9d7level0_row0\" class=\"row_heading level0 row0\" >0</th>\n",
       "                        <td id=\"T_96ed01f4_301f_11ea_a503_18568053c9d7row0_col0\" class=\"data row0 col0\" >144277</td>\n",
       "                        <td id=\"T_96ed01f4_301f_11ea_a503_18568053c9d7row0_col1\" class=\"data row0 col1\" >0</td>\n",
       "                        <td id=\"T_96ed01f4_301f_11ea_a503_18568053c9d7row0_col2\" class=\"data row0 col2\" >143754</td>\n",
       "                        <td id=\"T_96ed01f4_301f_11ea_a503_18568053c9d7row0_col3\" class=\"data row0 col3\" >523</td>\n",
       "                        <td id=\"T_96ed01f4_301f_11ea_a503_18568053c9d7row0_col4\" class=\"data row0 col4\" >144248</td>\n",
       "                        <td id=\"T_96ed01f4_301f_11ea_a503_18568053c9d7row0_col5\" class=\"data row0 col5\" >29</td>\n",
       "                        <td id=\"T_96ed01f4_301f_11ea_a503_18568053c9d7row0_col6\" class=\"data row0 col6\" >143744</td>\n",
       "                        <td id=\"T_96ed01f4_301f_11ea_a503_18568053c9d7row0_col7\" class=\"data row0 col7\" >533</td>\n",
       "                        <td id=\"T_96ed01f4_301f_11ea_a503_18568053c9d7row0_col8\" class=\"data row0 col8\" >144174</td>\n",
       "                        <td id=\"T_96ed01f4_301f_11ea_a503_18568053c9d7row0_col9\" class=\"data row0 col9\" >103</td>\n",
       "            </tr>\n",
       "            <tr>\n",
       "                        <th id=\"T_96ed01f4_301f_11ea_a503_18568053c9d7level0_row1\" class=\"row_heading level0 row1\" >1</th>\n",
       "                        <td id=\"T_96ed01f4_301f_11ea_a503_18568053c9d7row1_col0\" class=\"data row1 col0\" >13699</td>\n",
       "                        <td id=\"T_96ed01f4_301f_11ea_a503_18568053c9d7row1_col1\" class=\"data row1 col1\" >1595</td>\n",
       "                        <td id=\"T_96ed01f4_301f_11ea_a503_18568053c9d7row1_col2\" class=\"data row1 col2\" >7368</td>\n",
       "                        <td id=\"T_96ed01f4_301f_11ea_a503_18568053c9d7row1_col3\" class=\"data row1 col3\" >7926</td>\n",
       "                        <td id=\"T_96ed01f4_301f_11ea_a503_18568053c9d7row1_col4\" class=\"data row1 col4\" >14845</td>\n",
       "                        <td id=\"T_96ed01f4_301f_11ea_a503_18568053c9d7row1_col5\" class=\"data row1 col5\" >449</td>\n",
       "                        <td id=\"T_96ed01f4_301f_11ea_a503_18568053c9d7row1_col6\" class=\"data row1 col6\" >7950</td>\n",
       "                        <td id=\"T_96ed01f4_301f_11ea_a503_18568053c9d7row1_col7\" class=\"data row1 col7\" >7344</td>\n",
       "                        <td id=\"T_96ed01f4_301f_11ea_a503_18568053c9d7row1_col8\" class=\"data row1 col8\" >13992</td>\n",
       "                        <td id=\"T_96ed01f4_301f_11ea_a503_18568053c9d7row1_col9\" class=\"data row1 col9\" >1302</td>\n",
       "            </tr>\n",
       "    </tbody></table>"
      ],
      "text/plain": [
       "<pandas.io.formats.style.Styler at 0x23983fad6c8>"
      ]
     },
     "execution_count": 11,
     "metadata": {},
     "output_type": "execute_result"
    }
   ],
   "source": [
    "main_col = \"toxic\"\n",
    "corr_mats = []\n",
    "temp_df = train.iloc[:, 2:-1]\n",
    "\n",
    "for other_col in temp_df.columns[1:]:\n",
    "    confusion_matrix = pd.crosstab(temp_df[main_col], temp_df[other_col])\n",
    "    corr_mats.append(confusion_matrix)\n",
    "out = pd.concat(corr_mats,axis=1,keys=temp_df.columns[1:])\n",
    "\n",
    "# cell highlighting\n",
    "\n",
    "def highlight_min(s):\n",
    "    '''\n",
    "    highlight the minimum in a Series yellow.\n",
    "    '''\n",
    "    is_min = s == s.min()\n",
    "    return ['background-color: yellow' if v else '' for v in is_min]\n",
    "\n",
    "\n",
    "\n",
    "out = out.style.apply(highlight_min, axis=0)\n",
    "out"
   ]
  },
  {
   "cell_type": "markdown",
   "metadata": {},
   "source": [
    "From the above chart which shows the counts of labels, we see that:\n",
    "    - toxic = 15294\n",
    "    - severe_toxic = 1595\n",
    "    - obscene = 8449\n",
    "    - threat = 478\n",
    "    - insult = 7877\n",
    "    - identity_hate = 1405\n",
    "    \n",
    "So now from the confusion matrix above, we can see that:\n",
    "1. A severe_toxic comment is **always** toxic\n",
    "2. Almost all obscene comments are toxic\n",
    "3. Almost all threats, insults, and identity are toxic"
   ]
  },
  {
   "cell_type": "markdown",
   "metadata": {},
   "source": [
    "## WordCloud - Most Frequent Words"
   ]
  },
  {
   "cell_type": "code",
   "execution_count": 12,
   "metadata": {},
   "outputs": [],
   "source": [
    "from wordcloud import WordCloud, STOPWORDS, ImageColorGenerator\n",
    "\n",
    "# Initalize stopwords\n",
    "stopword = set(STOPWORDS)"
   ]
  },
  {
   "cell_type": "code",
   "execution_count": null,
   "metadata": {
    "scrolled": true
   },
   "outputs": [],
   "source": [
    "dfclean = train[train['clean'] == True]\n",
    "cleanComments = dfclean['comment_text'].values\n",
    "\n",
    "cloud = WordCloud(background_color='black', max_words=2000, stopwords=stopword)\n",
    "cloud.generate(\" \".join(cleanComments))\n",
    "plt.figure(figsize=(10,10))\n",
    "plt.axis(\"off\")\n",
    "plt.title(\"Most Frequent Words - Clean Comments\", fontsize=20)\n",
    "plt.imshow(cloud.recolor(colormap= 'viridis' , random_state=17), alpha=0.98)\n",
    "plt.show()"
   ]
  },
  {
   "cell_type": "code",
   "execution_count": null,
   "metadata": {},
   "outputs": [],
   "source": [
    "dftoxic = train.loc[train['toxic'] == 1]\n",
    "toxicComments = dftoxic['comment_text'].values\n",
    "\n",
    "cloud = WordCloud(background_color='black', max_words=2000, stopwords=stopword)\n",
    "cloud.generate(\" \".join(toxicComments))\n",
    "plt.figure(figsize=(10,10))\n",
    "plt.axis(\"off\")\n",
    "plt.title(\"Most Frequent Words - Toxic Comments\", fontsize=20)\n",
    "plt.imshow(cloud.recolor(colormap= 'viridis' , random_state=17), alpha=0.98)\n",
    "plt.show()"
   ]
  },
  {
   "cell_type": "code",
   "execution_count": null,
   "metadata": {},
   "outputs": [],
   "source": [
    "dfSeveretoxic = train.loc[train['severe_toxic'] == 1]\n",
    "SeveretoxicComments = dfSeveretoxic['comment_text'].values\n",
    "\n",
    "cloud = WordCloud(background_color='black', max_words=2000, stopwords=stopword)\n",
    "cloud.generate(\" \".join(SeveretoxicComments))\n",
    "plt.figure(figsize=(10,10))\n",
    "plt.axis(\"off\")\n",
    "plt.title(\"Most Frequent Words - Severe Toxic Comments\", fontsize=20)\n",
    "plt.imshow(cloud.recolor(colormap= 'viridis' , random_state=17), alpha=0.98)\n",
    "plt.show()"
   ]
  },
  {
   "cell_type": "code",
   "execution_count": null,
   "metadata": {},
   "outputs": [],
   "source": [
    "dfobscene = train.loc[train['obscene'] == 1]\n",
    "obsceneComments = dfobscene['comment_text'].values\n",
    "\n",
    "cloud = WordCloud(background_color='black', max_words=2000, stopwords=stopword)\n",
    "cloud.generate(\" \".join(obsceneComments))\n",
    "plt.figure(figsize=(10,10))\n",
    "plt.axis(\"off\")\n",
    "plt.title(\"Most Frequent Words - Obscene Comments\", fontsize=20)\n",
    "plt.imshow(cloud.recolor(colormap= 'viridis' , random_state=17), alpha=0.98)\n",
    "plt.show()"
   ]
  },
  {
   "cell_type": "code",
   "execution_count": null,
   "metadata": {},
   "outputs": [],
   "source": [
    "dfthreat = train.loc[train['threat'] == 1]\n",
    "threatComments = dfobscene['comment_text'].values\n",
    "\n",
    "cloud = WordCloud(background_color='black', max_words=2000, stopwords=stopword)\n",
    "cloud.generate(\" \".join(threatComments))\n",
    "plt.figure(figsize=(10,10))\n",
    "plt.axis(\"off\")\n",
    "plt.title(\"Most Frequent Words - Threat Comments\", fontsize=20)\n",
    "plt.imshow(cloud.recolor(colormap= 'viridis' , random_state=17), alpha=0.98)\n",
    "plt.show()"
   ]
  },
  {
   "cell_type": "code",
   "execution_count": null,
   "metadata": {},
   "outputs": [],
   "source": [
    "dfinsult = train.loc[train['insult'] == 1]\n",
    "insultComments = dfinsult['comment_text'].values\n",
    "\n",
    "cloud = WordCloud(background_color='black', max_words=2000, stopwords=stopword)\n",
    "cloud.generate(\" \".join(insultComments))\n",
    "plt.figure(figsize=(10,10))\n",
    "plt.axis(\"off\")\n",
    "plt.title(\"Most Frequent Words - Insult Comments\", fontsize=20)\n",
    "plt.imshow(cloud.recolor(colormap= 'viridis' , random_state=17), alpha=0.98)\n",
    "plt.show()"
   ]
  },
  {
   "cell_type": "code",
   "execution_count": null,
   "metadata": {
    "scrolled": true
   },
   "outputs": [],
   "source": [
    "dfhate = train.loc[train['identity_hate'] == 1]\n",
    "hateComments = dfhate['comment_text'].values\n",
    "\n",
    "cloud = WordCloud(background_color='black', max_words=2000, stopwords=stopword)\n",
    "cloud.generate(\" \".join(hateComments))\n",
    "plt.figure(figsize=(10,10))\n",
    "plt.axis(\"off\")\n",
    "plt.title(\"Most Frequent Words - Hate Comments\", fontsize=20)\n",
    "plt.imshow(cloud.recolor(colormap= 'viridis' , random_state=17), alpha=0.98)\n",
    "plt.show()"
   ]
  },
  {
   "cell_type": "markdown",
   "metadata": {},
   "source": [
    "## Data Cleanup & Feature Engineering"
   ]
  },
  {
   "cell_type": "code",
   "execution_count": 20,
   "metadata": {},
   "outputs": [],
   "source": [
    "# Merge train & test dataset and reset index\n",
    "\n",
    "merged = pd.concat([train.iloc[:, 0:2], test.iloc[:, 0:2]])\n",
    "df = merged.reset_index(drop=True)"
   ]
  },
  {
   "cell_type": "code",
   "execution_count": 21,
   "metadata": {},
   "outputs": [
    {
     "data": {
      "text/plain": [
       "\"Explanation\\nWhy the edits made under my username Hardcore Metallica Fan were reverted? They weren't vandalisms, just closure on some GAs after I voted at New York Dolls FAC. And please don't remove the template from the talk page since I'm retired now.89.205.38.27\""
      ]
     },
     "execution_count": 21,
     "metadata": {},
     "output_type": "execute_result"
    }
   ],
   "source": [
    "df['comment_text'][0]"
   ]
  },
  {
   "cell_type": "markdown",
   "metadata": {},
   "source": [
    "Note that if we remove punctuation, we will end up removing complete sentences. Instead we will count various metrics in order to further understand the data."
   ]
  },
  {
   "cell_type": "code",
   "execution_count": 22,
   "metadata": {},
   "outputs": [],
   "source": [
    "# Find the number of new lines '\\n'\n",
    "df['sentenceCount'] = df['comment_text'].apply(lambda x: len(re.findall(\"\\n\", str(x))) + 1)"
   ]
  },
  {
   "cell_type": "code",
   "execution_count": 23,
   "metadata": {},
   "outputs": [
    {
     "name": "stderr",
     "output_type": "stream",
     "text": [
      "C:\\Users\\Nino\\Anaconda3\\lib\\site-packages\\numpy\\core\\fromnumeric.py:3118: RuntimeWarning: Mean of empty slice.\n",
      "  out=out, **kwargs)\n"
     ]
    }
   ],
   "source": [
    "# Number of words \n",
    "df['wordCount'] = df['comment_text'].apply(lambda x: len(str(x).split()))\n",
    "\n",
    "# Unique number of words\n",
    "df['uniqueWordCount'] = df['comment_text'].apply(lambda x: len(set(str(x).split())))\n",
    "\n",
    "# Number of letters\n",
    "df['letterCount'] = df['comment_text'].apply(lambda x: len(str(x)))\n",
    "\n",
    "# Punctuation count\n",
    "df['puncCount'] = df['comment_text'].apply(lambda x: len([c for c in str(x) if c in string.punctuation]))\n",
    "\n",
    "# Number of uppercase words\n",
    "df[\"uppercaseCount\"] = df[\"comment_text\"].apply(lambda x: len([w for w in str(x).split() if w.isupper()]))\n",
    "\n",
    "# Number of titled words (words starting with capital letter)\n",
    "df[\"titleWordCount\"] = df[\"comment_text\"].apply(lambda x: len([w for w in str(x).split() if w.istitle()]))\n",
    "\n",
    "# Number of stopwords\n",
    "df[\"stopwordCount\"] = df[\"comment_text\"].apply(lambda x: len([w for w in str(x).lower().split() if w in stopword]))\n",
    "\n",
    "# Average word length\n",
    "df[\"meanWordLength\"] = df[\"comment_text\"].apply(lambda x: np.mean([len(w) for w in str(x).split()]))\n",
    "\n",
    "# Unique word count percentage\n",
    "df['wordCountPercent'] = np.round(df['uniqueWordCount'] / df['wordCount'] * 100, 2)\n",
    "\n",
    "# Punctuation percentage per comment\n",
    "df['puncPercent'] = np.round(df['puncCount'] / df['wordCount'] * 100, 2)"
   ]
  },
  {
   "cell_type": "code",
   "execution_count": null,
   "metadata": {},
   "outputs": [],
   "source": []
  },
  {
   "cell_type": "code",
   "execution_count": null,
   "metadata": {},
   "outputs": [],
   "source": []
  },
  {
   "cell_type": "code",
   "execution_count": null,
   "metadata": {},
   "outputs": [],
   "source": []
  },
  {
   "cell_type": "code",
   "execution_count": null,
   "metadata": {},
   "outputs": [],
   "source": []
  },
  {
   "cell_type": "code",
   "execution_count": null,
   "metadata": {},
   "outputs": [],
   "source": []
  },
  {
   "cell_type": "code",
   "execution_count": 24,
   "metadata": {},
   "outputs": [],
   "source": [
    "# Seperate Train/Test data\n",
    "trainFeatures = df.iloc[0:len(train)]\n",
    "testFeatures = df.iloc[len(train) :,]\n",
    "\n",
    "# Join tags\n",
    "trainTags = train.iloc[:, 2:]\n",
    "trainFeatures = pd.concat([trainFeatures, trainTags], axis=1)"
   ]
  },
  {
   "cell_type": "markdown",
   "metadata": {},
   "source": [
    "- Are comments with more punctuation more toxic?\n",
    "- Are longer comments more toxic?"
   ]
  },
  {
   "cell_type": "code",
   "execution_count": 26,
   "metadata": {},
   "outputs": [
    {
     "data": {
      "text/html": [
       "<div>\n",
       "<style scoped>\n",
       "    .dataframe tbody tr th:only-of-type {\n",
       "        vertical-align: middle;\n",
       "    }\n",
       "\n",
       "    .dataframe tbody tr th {\n",
       "        vertical-align: top;\n",
       "    }\n",
       "\n",
       "    .dataframe thead th {\n",
       "        text-align: right;\n",
       "    }\n",
       "</style>\n",
       "<table border=\"1\" class=\"dataframe\">\n",
       "  <thead>\n",
       "    <tr style=\"text-align: right;\">\n",
       "      <th></th>\n",
       "      <th>id</th>\n",
       "      <th>comment_text</th>\n",
       "      <th>sentenceCount</th>\n",
       "      <th>wordCount</th>\n",
       "      <th>uniqueWordCount</th>\n",
       "      <th>letterCount</th>\n",
       "      <th>puncCount</th>\n",
       "      <th>uppercaseCount</th>\n",
       "      <th>titleWordCount</th>\n",
       "      <th>stopwordCount</th>\n",
       "      <th>meanWordLength</th>\n",
       "      <th>wordCountPercent</th>\n",
       "      <th>puncPercent</th>\n",
       "      <th>toxic</th>\n",
       "      <th>severe_toxic</th>\n",
       "      <th>obscene</th>\n",
       "      <th>threat</th>\n",
       "      <th>insult</th>\n",
       "      <th>identity_hate</th>\n",
       "      <th>clean</th>\n",
       "    </tr>\n",
       "  </thead>\n",
       "  <tbody>\n",
       "    <tr>\n",
       "      <td>43</td>\n",
       "      <td>00190820581d90ce</td>\n",
       "      <td>FUCK YOUR FILTHY MOTHER IN THE ASS, DRY!</td>\n",
       "      <td>1</td>\n",
       "      <td>8</td>\n",
       "      <td>8</td>\n",
       "      <td>40</td>\n",
       "      <td>2</td>\n",
       "      <td>8</td>\n",
       "      <td>0</td>\n",
       "      <td>3</td>\n",
       "      <td>4.125000</td>\n",
       "      <td>100.00</td>\n",
       "      <td>25.00</td>\n",
       "      <td>1</td>\n",
       "      <td>0</td>\n",
       "      <td>1</td>\n",
       "      <td>0</td>\n",
       "      <td>1</td>\n",
       "      <td>0</td>\n",
       "      <td>False</td>\n",
       "    </tr>\n",
       "    <tr>\n",
       "      <td>17</td>\n",
       "      <td>000897889268bc93</td>\n",
       "      <td>REDIRECT Talk:Voydan Pop Georgiev- Chernodrinski</td>\n",
       "      <td>1</td>\n",
       "      <td>5</td>\n",
       "      <td>5</td>\n",
       "      <td>48</td>\n",
       "      <td>2</td>\n",
       "      <td>1</td>\n",
       "      <td>4</td>\n",
       "      <td>0</td>\n",
       "      <td>8.800000</td>\n",
       "      <td>100.00</td>\n",
       "      <td>40.00</td>\n",
       "      <td>0</td>\n",
       "      <td>0</td>\n",
       "      <td>0</td>\n",
       "      <td>0</td>\n",
       "      <td>0</td>\n",
       "      <td>0</td>\n",
       "      <td>True</td>\n",
       "    </tr>\n",
       "    <tr>\n",
       "      <td>42</td>\n",
       "      <td>001810bf8c45bf5f</td>\n",
       "      <td>You are gay or antisemmitian? \\n\\nArchangel WH...</td>\n",
       "      <td>15</td>\n",
       "      <td>117</td>\n",
       "      <td>88</td>\n",
       "      <td>648</td>\n",
       "      <td>28</td>\n",
       "      <td>3</td>\n",
       "      <td>16</td>\n",
       "      <td>54</td>\n",
       "      <td>4.478632</td>\n",
       "      <td>75.21</td>\n",
       "      <td>23.93</td>\n",
       "      <td>1</td>\n",
       "      <td>0</td>\n",
       "      <td>1</td>\n",
       "      <td>0</td>\n",
       "      <td>1</td>\n",
       "      <td>1</td>\n",
       "      <td>False</td>\n",
       "    </tr>\n",
       "    <tr>\n",
       "      <td>113</td>\n",
       "      <td>004b103182fb1eab</td>\n",
       "      <td>Thanks, Josette. I enjoyed meeting you, too. I...</td>\n",
       "      <td>1</td>\n",
       "      <td>74</td>\n",
       "      <td>65</td>\n",
       "      <td>414</td>\n",
       "      <td>14</td>\n",
       "      <td>4</td>\n",
       "      <td>10</td>\n",
       "      <td>34</td>\n",
       "      <td>4.608108</td>\n",
       "      <td>87.84</td>\n",
       "      <td>18.92</td>\n",
       "      <td>0</td>\n",
       "      <td>0</td>\n",
       "      <td>0</td>\n",
       "      <td>0</td>\n",
       "      <td>0</td>\n",
       "      <td>0</td>\n",
       "      <td>True</td>\n",
       "    </tr>\n",
       "    <tr>\n",
       "      <td>13</td>\n",
       "      <td>0006f16e4e9f292e</td>\n",
       "      <td>Before you start throwing accusations and warn...</td>\n",
       "      <td>3</td>\n",
       "      <td>142</td>\n",
       "      <td>108</td>\n",
       "      <td>819</td>\n",
       "      <td>19</td>\n",
       "      <td>1</td>\n",
       "      <td>5</td>\n",
       "      <td>73</td>\n",
       "      <td>4.760563</td>\n",
       "      <td>76.06</td>\n",
       "      <td>13.38</td>\n",
       "      <td>0</td>\n",
       "      <td>0</td>\n",
       "      <td>0</td>\n",
       "      <td>0</td>\n",
       "      <td>0</td>\n",
       "      <td>0</td>\n",
       "      <td>True</td>\n",
       "    </tr>\n",
       "    <tr>\n",
       "      <td>...</td>\n",
       "      <td>...</td>\n",
       "      <td>...</td>\n",
       "      <td>...</td>\n",
       "      <td>...</td>\n",
       "      <td>...</td>\n",
       "      <td>...</td>\n",
       "      <td>...</td>\n",
       "      <td>...</td>\n",
       "      <td>...</td>\n",
       "      <td>...</td>\n",
       "      <td>...</td>\n",
       "      <td>...</td>\n",
       "      <td>...</td>\n",
       "      <td>...</td>\n",
       "      <td>...</td>\n",
       "      <td>...</td>\n",
       "      <td>...</td>\n",
       "      <td>...</td>\n",
       "      <td>...</td>\n",
       "      <td>...</td>\n",
       "    </tr>\n",
       "    <tr>\n",
       "      <td>10</td>\n",
       "      <td>0005300084f90edc</td>\n",
       "      <td>\"\\nFair use rationale for Image:Wonju.jpg\\n\\nT...</td>\n",
       "      <td>15</td>\n",
       "      <td>494</td>\n",
       "      <td>221</td>\n",
       "      <td>2875</td>\n",
       "      <td>86</td>\n",
       "      <td>3</td>\n",
       "      <td>36</td>\n",
       "      <td>229</td>\n",
       "      <td>4.803644</td>\n",
       "      <td>44.74</td>\n",
       "      <td>17.41</td>\n",
       "      <td>0</td>\n",
       "      <td>0</td>\n",
       "      <td>0</td>\n",
       "      <td>0</td>\n",
       "      <td>0</td>\n",
       "      <td>0</td>\n",
       "      <td>True</td>\n",
       "    </tr>\n",
       "    <tr>\n",
       "      <td>38</td>\n",
       "      <td>00169857adbc989b</td>\n",
       "      <td>Hi Explicit, can you block O Fenian for edit-w...</td>\n",
       "      <td>1</td>\n",
       "      <td>26</td>\n",
       "      <td>25</td>\n",
       "      <td>148</td>\n",
       "      <td>5</td>\n",
       "      <td>1</td>\n",
       "      <td>6</td>\n",
       "      <td>12</td>\n",
       "      <td>4.730769</td>\n",
       "      <td>96.15</td>\n",
       "      <td>19.23</td>\n",
       "      <td>0</td>\n",
       "      <td>0</td>\n",
       "      <td>0</td>\n",
       "      <td>0</td>\n",
       "      <td>0</td>\n",
       "      <td>0</td>\n",
       "      <td>True</td>\n",
       "    </tr>\n",
       "    <tr>\n",
       "      <td>64</td>\n",
       "      <td>00280c0d0652b366</td>\n",
       "      <td>\"\\n\\n DH \\nDude, ABC officially says THIS is t...</td>\n",
       "      <td>4</td>\n",
       "      <td>32</td>\n",
       "      <td>27</td>\n",
       "      <td>172</td>\n",
       "      <td>13</td>\n",
       "      <td>5</td>\n",
       "      <td>3</td>\n",
       "      <td>14</td>\n",
       "      <td>4.250000</td>\n",
       "      <td>84.38</td>\n",
       "      <td>40.62</td>\n",
       "      <td>0</td>\n",
       "      <td>0</td>\n",
       "      <td>0</td>\n",
       "      <td>0</td>\n",
       "      <td>0</td>\n",
       "      <td>0</td>\n",
       "      <td>True</td>\n",
       "    </tr>\n",
       "    <tr>\n",
       "      <td>89</td>\n",
       "      <td>0037fe4f8f5cdcfb</td>\n",
       "      <td>Thanks reading there now !</td>\n",
       "      <td>1</td>\n",
       "      <td>5</td>\n",
       "      <td>5</td>\n",
       "      <td>26</td>\n",
       "      <td>1</td>\n",
       "      <td>0</td>\n",
       "      <td>1</td>\n",
       "      <td>1</td>\n",
       "      <td>4.400000</td>\n",
       "      <td>100.00</td>\n",
       "      <td>20.00</td>\n",
       "      <td>0</td>\n",
       "      <td>0</td>\n",
       "      <td>0</td>\n",
       "      <td>0</td>\n",
       "      <td>0</td>\n",
       "      <td>0</td>\n",
       "      <td>True</td>\n",
       "    </tr>\n",
       "    <tr>\n",
       "      <td>26</td>\n",
       "      <td>000f35deef84dc4a</td>\n",
       "      <td>There's no need to apologize. A Wikipedia arti...</td>\n",
       "      <td>1</td>\n",
       "      <td>49</td>\n",
       "      <td>42</td>\n",
       "      <td>288</td>\n",
       "      <td>10</td>\n",
       "      <td>3</td>\n",
       "      <td>4</td>\n",
       "      <td>25</td>\n",
       "      <td>4.897959</td>\n",
       "      <td>85.71</td>\n",
       "      <td>20.41</td>\n",
       "      <td>0</td>\n",
       "      <td>0</td>\n",
       "      <td>0</td>\n",
       "      <td>0</td>\n",
       "      <td>0</td>\n",
       "      <td>0</td>\n",
       "      <td>True</td>\n",
       "    </tr>\n",
       "  </tbody>\n",
       "</table>\n",
       "<p>312735 rows × 20 columns</p>\n",
       "</div>"
      ],
      "text/plain": [
       "                   id                                       comment_text  \\\n",
       "43   00190820581d90ce           FUCK YOUR FILTHY MOTHER IN THE ASS, DRY!   \n",
       "17   000897889268bc93   REDIRECT Talk:Voydan Pop Georgiev- Chernodrinski   \n",
       "42   001810bf8c45bf5f  You are gay or antisemmitian? \\n\\nArchangel WH...   \n",
       "113  004b103182fb1eab  Thanks, Josette. I enjoyed meeting you, too. I...   \n",
       "13   0006f16e4e9f292e  Before you start throwing accusations and warn...   \n",
       "..                ...                                                ...   \n",
       "10   0005300084f90edc  \"\\nFair use rationale for Image:Wonju.jpg\\n\\nT...   \n",
       "38   00169857adbc989b  Hi Explicit, can you block O Fenian for edit-w...   \n",
       "64   00280c0d0652b366  \"\\n\\n DH \\nDude, ABC officially says THIS is t...   \n",
       "89   0037fe4f8f5cdcfb                         Thanks reading there now !   \n",
       "26   000f35deef84dc4a  There's no need to apologize. A Wikipedia arti...   \n",
       "\n",
       "     sentenceCount  wordCount  uniqueWordCount  letterCount  puncCount  \\\n",
       "43               1          8                8           40          2   \n",
       "17               1          5                5           48          2   \n",
       "42              15        117               88          648         28   \n",
       "113              1         74               65          414         14   \n",
       "13               3        142              108          819         19   \n",
       "..             ...        ...              ...          ...        ...   \n",
       "10              15        494              221         2875         86   \n",
       "38               1         26               25          148          5   \n",
       "64               4         32               27          172         13   \n",
       "89               1          5                5           26          1   \n",
       "26               1         49               42          288         10   \n",
       "\n",
       "     uppercaseCount  titleWordCount  stopwordCount  meanWordLength  \\\n",
       "43                8               0              3        4.125000   \n",
       "17                1               4              0        8.800000   \n",
       "42                3              16             54        4.478632   \n",
       "113               4              10             34        4.608108   \n",
       "13                1               5             73        4.760563   \n",
       "..              ...             ...            ...             ...   \n",
       "10                3              36            229        4.803644   \n",
       "38                1               6             12        4.730769   \n",
       "64                5               3             14        4.250000   \n",
       "89                0               1              1        4.400000   \n",
       "26                3               4             25        4.897959   \n",
       "\n",
       "     wordCountPercent  puncPercent  toxic  severe_toxic  obscene  threat  \\\n",
       "43             100.00        25.00      1             0        1       0   \n",
       "17             100.00        40.00      0             0        0       0   \n",
       "42              75.21        23.93      1             0        1       0   \n",
       "113             87.84        18.92      0             0        0       0   \n",
       "13              76.06        13.38      0             0        0       0   \n",
       "..                ...          ...    ...           ...      ...     ...   \n",
       "10              44.74        17.41      0             0        0       0   \n",
       "38              96.15        19.23      0             0        0       0   \n",
       "64              84.38        40.62      0             0        0       0   \n",
       "89             100.00        20.00      0             0        0       0   \n",
       "26              85.71        20.41      0             0        0       0   \n",
       "\n",
       "     insult  identity_hate  clean  \n",
       "43        1              0  False  \n",
       "17        0              0   True  \n",
       "42        1              1  False  \n",
       "113       0              0   True  \n",
       "13        0              0   True  \n",
       "..      ...            ...    ...  \n",
       "10        0              0   True  \n",
       "38        0              0   True  \n",
       "64        0              0   True  \n",
       "89        0              0   True  \n",
       "26        0              0   True  \n",
       "\n",
       "[312735 rows x 20 columns]"
      ]
     },
     "execution_count": 26,
     "metadata": {},
     "output_type": "execute_result"
    }
   ],
   "source": [
    "trainFeatures.loc[df['wordCount']]"
   ]
  },
  {
   "cell_type": "code",
   "execution_count": 27,
   "metadata": {},
   "outputs": [
    {
     "data": {
      "text/plain": [
       "(159571, 2)"
      ]
     },
     "execution_count": 27,
     "metadata": {},
     "output_type": "execute_result"
    }
   ],
   "source": [
    "trainFeatures[['wordCount', 'toxic']].sort_values(by='wordCount', ascending=False).shape"
   ]
  },
  {
   "cell_type": "code",
   "execution_count": 28,
   "metadata": {},
   "outputs": [
    {
     "data": {
      "text/plain": [
       "count    144277.000000\n",
       "mean         68.967874\n",
       "std          98.279574\n",
       "min           1.000000\n",
       "25%          18.000000\n",
       "50%          38.000000\n",
       "75%          78.000000\n",
       "max        1250.000000\n",
       "Name: wordCount, dtype: float64"
      ]
     },
     "execution_count": 28,
     "metadata": {},
     "output_type": "execute_result"
    }
   ],
   "source": [
    "trainFeatures['wordCount'].loc[trainFeatures['toxic'] == 0].describe()"
   ]
  },
  {
   "cell_type": "code",
   "execution_count": 29,
   "metadata": {},
   "outputs": [
    {
     "data": {
      "text/plain": [
       "Text(0.5, 1.0, 'Punc Count vs Toxicity')"
      ]
     },
     "execution_count": 29,
     "metadata": {},
     "output_type": "execute_result"
    },
    {
     "data": {
      "image/png": "[encoded data removed]",
      "text/plain": [
       "<Figure size 1152x720 with 2 Axes>"
      ]
     },
     "metadata": {
      "needs_background": "light"
     },
     "output_type": "display_data"
    }
   ],
   "source": [
    "fig, ax = plt.subplots(1,2, figsize=(16,10))\n",
    "a = sns.violinplot(x='toxic', y='wordCount', data=trainFeatures, ax=ax[0])\n",
    "b = sns.violinplot(x='toxic', y='puncCount', data=trainFeatures, ax=ax[1])\n",
    "\n",
    "a.set_title('Word Count vs Toxicity', fontsize=14)\n",
    "b.set_title('Punc Count vs Toxicity', fontsize=14)"
   ]
  },
  {
   "cell_type": "markdown",
   "metadata": {},
   "source": [
    "As per violin plots, neither word count nor punctuation count seems to affect toxicity. There are huge outliers which may indicate toxic comments are more 'spammy'."
   ]
  },
  {
   "cell_type": "markdown",
   "metadata": {},
   "source": [
    "We can determine 'spam' by looking at word count versus unique word count. When the ratio of unique word count to total word count is low, it would indicate spam."
   ]
  },
  {
   "cell_type": "code",
   "execution_count": 30,
   "metadata": {},
   "outputs": [],
   "source": [
    "trainFeatures['spamRatio'] = 1 - np.round(trainFeatures['uniqueWordCount'] / trainFeatures['wordCount'], 2)"
   ]
  },
  {
   "cell_type": "code",
   "execution_count": 31,
   "metadata": {},
   "outputs": [
    {
     "data": {
      "text/plain": [
       "Int64Index([2420, 5220, 5523, 6572, 8705], dtype='int64')"
      ]
     },
     "execution_count": 31,
     "metadata": {},
     "output_type": "execute_result"
    }
   ],
   "source": [
    "trainFeatures.loc[trainFeatures['spamRatio'] == 1][:5].index"
   ]
  },
  {
   "cell_type": "code",
   "execution_count": 32,
   "metadata": {},
   "outputs": [
    {
     "data": {
      "text/plain": [
       "'FUCK YOU U USELESS BOT FUCK YOU U USELESS BOT FUCK YOU U USELESS BOT FUCK YOU U USELESS BOT FUCK YOU U USELESS BOT FUCK YOU U USELESS BOT FUCK YOU U USELESS BOT FUCK YOU U USELESS BOT FUCK YOU U USELESS BOT FUCK YOU U USELESS BOT FUCK YOU U USELESS B'"
      ]
     },
     "execution_count": 32,
     "metadata": {},
     "output_type": "execute_result"
    }
   ],
   "source": [
    "# Let's see what this comment looks like (first 250 characters)\n",
    "trainFeatures.iloc[2420][1][:250]"
   ]
  },
  {
   "cell_type": "code",
   "execution_count": 33,
   "metadata": {},
   "outputs": [
    {
     "data": {
      "text/plain": [
       "'BALLS BALLS BALLS BALLS BALLS BALLS BALLS BALLS BALLS BALLS BALLS BALLS BALLS BALLS BALLS BALLS BALLS BALLS BALLS BALLS BALLS BALLS BALLS BALLS BALLS BALLS BALLS BALLS BALLS BALLS BALLS BALLS BALLS BALLS BALLS BALLS BALLS BALLS BALLS BALLS BALLS BALL'"
      ]
     },
     "execution_count": 33,
     "metadata": {},
     "output_type": "execute_result"
    }
   ],
   "source": [
    "trainFeatures.iloc[8705][1][:250]"
   ]
  },
  {
   "cell_type": "markdown",
   "metadata": {},
   "source": [
    "Sure does look like spam - and toxic as well."
   ]
  },
  {
   "cell_type": "code",
   "execution_count": 34,
   "metadata": {},
   "outputs": [
    {
     "data": {
      "text/plain": [
       "Text(0.5, 1.0, 'Word Count vs Toxicity')"
      ]
     },
     "execution_count": 34,
     "metadata": {},
     "output_type": "execute_result"
    },
    {
     "data": {
      "image/png": "[encoded data removed]",
      "text/plain": [
       "<Figure size 1152x720 with 2 Axes>"
      ]
     },
     "metadata": {
      "needs_background": "light"
     },
     "output_type": "display_data"
    }
   ],
   "source": [
    "fig, ax = plt.subplots(1,2, figsize=(16,10))\n",
    "c = sns.violinplot(x='toxic', y='spamRatio', data=trainFeatures.loc[trainFeatures['spamRatio'] > 0.75], ax=ax[0])\n",
    "d = sns.violinplot(x='toxic', y='wordCount', data=trainFeatures.loc[trainFeatures['spamRatio'] > 0.75], ax=ax[1])\n",
    "\n",
    "c.set_title('Spam Ratio vs Toxicity', fontsize=14)\n",
    "d.set_title('Word Count vs Toxicity', fontsize=14)"
   ]
  },
  {
   "cell_type": "markdown",
   "metadata": {},
   "source": [
    "As predicted, spam coincides with toxicity. Spammers are more toxic!\n",
    "\n",
    "However, it's important to note that it is possible to spam and not be toxic. Let's see what that looks like:"
   ]
  },
  {
   "cell_type": "code",
   "execution_count": 35,
   "metadata": {},
   "outputs": [
    {
     "data": {
      "text/plain": [
       "Int64Index([1043, 2567, 3235, 4557, 6440], dtype='int64')"
      ]
     },
     "execution_count": 35,
     "metadata": {},
     "output_type": "execute_result"
    }
   ],
   "source": [
    "trainFeatures.loc[(trainFeatures['spamRatio'] > 0.75) & (trainFeatures['toxic'] != 1)][:5].index"
   ]
  },
  {
   "cell_type": "code",
   "execution_count": 36,
   "metadata": {},
   "outputs": [
    {
     "data": {
      "text/plain": [
       "'Towns and Villages in Ark-La-Tex]]\\n Cities, boroughs and towns in the Republic of Ireland\\n Cities, boroughs, and townships along the Susquehanna River\\n Cities, towns and villages in Alborz Province\\n Cities, towns and villages in Ardabil Province\\n Cit'"
      ]
     },
     "execution_count": 36,
     "metadata": {},
     "output_type": "execute_result"
    }
   ],
   "source": [
    "trainFeatures.iloc[2567][1][:250]"
   ]
  },
  {
   "cell_type": "markdown",
   "metadata": {},
   "source": [
    "In this scenario, spam becomes toxic to our model too.\n",
    "\n",
    "Let's create our own Count Vectorizer to pick up specific items."
   ]
  },
  {
   "cell_type": "code",
   "execution_count": 37,
   "metadata": {},
   "outputs": [],
   "source": [
    "from sklearn.feature_extraction.text import TfidfVectorizer, CountVectorizer, HashingVectorizer"
   ]
  },
  {
   "cell_type": "code",
   "execution_count": 38,
   "metadata": {},
   "outputs": [],
   "source": [
    "# Leaky features\n",
    "df['IP'] = df[\"comment_text\"].apply(lambda x: re.findall(\"\\d{1,3}\\.\\d{1,3}\\.\\d{1,3}\\.\\d{1,3}\", str(x)))\n",
    "\n",
    "# Count of IP addresses\n",
    "df['countIP'] = df[\"IP\"].apply(lambda x: len(x))\n",
    "\n",
    "# URLs\n",
    "df['URL'] = df[\"comment_text\"].apply(lambda x: re.findall(\"http://.*com\",str(x)))\n",
    "\n",
    "# Count of URLs\n",
    "df['countURL'] = df[\"URL\"].apply(lambda x: len(x))\n",
    "\n",
    "# Article IDs\n",
    "df['articleID'] = df[\"comment_text\"].apply(lambda x: re.findall(\"\\d:\\d\\d\\s{0,5}$\",str(x)))\n",
    "df['articleIDFlag'] = df['articleID'].apply(lambda x: len(x))\n",
    "\n",
    "# Username\n",
    "df['username'] = df[\"comment_text\"].apply(lambda x: re.findall(\"\\[\\[User(.*)\\|\",str(x)))\n",
    "\n",
    "#count of username mentions\n",
    "df['countUsernames'] = df[\"username\"].apply(lambda x: len(x))\n",
    "\n",
    "# check if features are created\n",
    "# df.username[df.count_usernames>0]\n",
    "\n",
    "# Leaky IP\n",
    "cv = CountVectorizer()\n",
    "count_feats_ip = cv.fit_transform(df[\"IP\"].apply(lambda x : str(x)))\n",
    "\n",
    "\n",
    "# Leaky usernames\n",
    "\n",
    "cv = CountVectorizer()\n",
    "count_feats_user = cv.fit_transform(df[\"username\"].apply(lambda x : str(x)))"
   ]
  },
  {
   "cell_type": "code",
   "execution_count": 39,
   "metadata": {},
   "outputs": [
    {
     "data": {
      "text/plain": [
       "['color',\n",
       " 'colorprobe',\n",
       " 'condemn',\n",
       " 'contribs',\n",
       " 'contributions',\n",
       " 'cool',\n",
       " 'corvoe',\n",
       " 'crash',\n",
       " 'cyphoidbomb',\n",
       " 'dalbury',\n",
       " 'danielfolsom',\n",
       " 'dante',\n",
       " 'datbitch',\n",
       " 'dc',\n",
       " 'ddstretch']"
      ]
     },
     "execution_count": 39,
     "metadata": {},
     "output_type": "execute_result"
    }
   ],
   "source": [
    "# Let's check some feature names\n",
    "\n",
    "cv.get_feature_names()[100:115]"
   ]
  },
  {
   "cell_type": "markdown",
   "metadata": {},
   "source": [
    "It may be useful to determine if we have a lot of reocurring features - such as IPs and URLs. "
   ]
  },
  {
   "cell_type": "code",
   "execution_count": 40,
   "metadata": {},
   "outputs": [
    {
     "data": {
      "text/plain": [
       "Index(['id', 'comment_text', 'sentenceCount', 'wordCount', 'uniqueWordCount',\n",
       "       'letterCount', 'puncCount', 'uppercaseCount', 'titleWordCount',\n",
       "       'stopwordCount', 'meanWordLength', 'wordCountPercent', 'puncPercent',\n",
       "       'IP', 'countIP', 'URL', 'countURL', 'articleID', 'articleIDFlag',\n",
       "       'username', 'countUsernames'],\n",
       "      dtype='object')"
      ]
     },
     "execution_count": 40,
     "metadata": {},
     "output_type": "execute_result"
    }
   ],
   "source": [
    "df.columns"
   ]
  },
  {
   "cell_type": "code",
   "execution_count": 41,
   "metadata": {},
   "outputs": [],
   "source": [
    "leaky_feats = df[[\"IP\", \"URL\", \"articleID\", \"username\", \"countIP\",\"countURL\",\"countUsernames\",\"articleIDFlag\"]]\n",
    "\n",
    "leaky_feats_train = leaky_feats.iloc[:train.shape[0]]\n",
    "leaky_feats_test = leaky_feats.iloc[train.shape[0]:]"
   ]
  },
  {
   "cell_type": "code",
   "execution_count": 43,
   "metadata": {},
   "outputs": [
    {
     "data": {
      "image/png": "[encoded data removed]",
      "text/plain": [
       "<Figure size 576x576 with 1 Axes>"
      ]
     },
     "metadata": {},
     "output_type": "display_data"
    }
   ],
   "source": [
    "import matplotlib_venn as venn\n",
    "\n",
    "# Filter out items that do not contain IPs\n",
    "train_IPs = leaky_feats_train.loc[(leaky_feats_train['IP'].str.len() != 0)]\n",
    "test_IPs = leaky_feats_test.loc[(leaky_feats_test['IP'].str.len() != 0)]\n",
    "\n",
    "# Obtain list of unique IPs\n",
    "train_IP_list = list(set([a for b in train_IPs['IP'].tolist() for a in b]))\n",
    "test_IP_list = list(set([a for b in test_IPs['IP'].tolist() for a in b]))\n",
    "\n",
    "# Obtain common elements\n",
    "common_IP_list = list(set(train_IP_list).intersection(test_IP_list))\n",
    "\n",
    "plt.figure(figsize=(8, 8))\n",
    "plt.title(\"Common IP addresses\")\n",
    "venn.venn2(subsets=(len(train_IP_list), len(test_IP_list), len(common_IP_list)),\n",
    "           set_labels=(\"# of unique IPs (Train)\", \"# of unique IPs (Test)\"))\n",
    "plt.show()"
   ]
  },
  {
   "cell_type": "code",
   "execution_count": 44,
   "metadata": {},
   "outputs": [
    {
     "data": {
      "image/png": "[encoded data removed]",
      "text/plain": [
       "<Figure size 576x576 with 1 Axes>"
      ]
     },
     "metadata": {},
     "output_type": "display_data"
    }
   ],
   "source": [
    "# Filter out items without URLs\n",
    "train_URLs = leaky_feats_train.loc[(leaky_feats_train['URL'].str.len() != 0)]\n",
    "test_URLs = leaky_feats_test.loc[(leaky_feats_test['URL'].str.len() != 0)]\n",
    "\n",
    "# Obtain list of unique URLs\n",
    "train_URLs_list = list(set([a for b in train_IPs['URL'].tolist() for a in b]))\n",
    "test_URLs_list = list(set([a for b in test_IPs['URL'].tolist() for a in b]))\n",
    "\n",
    "# Obtain common elements\n",
    "common_URLs_list=list(set(train_URLs_list).intersection(test_URLs_list))\n",
    "\n",
    "plt.figure(figsize=(8, 8))\n",
    "plt.title(\"Common URLs\")\n",
    "venn.venn2(subsets=(len(train_URLs_list),len(test_URLs_list),len(common_URLs_list)),\n",
    "           set_labels=(\"# of unique URLs (Train)\",\"# of unique URLs (Test)\"))\n",
    "plt.show()"
   ]
  },
  {
   "cell_type": "code",
   "execution_count": 45,
   "metadata": {},
   "outputs": [
    {
     "data": {
      "image/png": "[encoded data removed]",
      "text/plain": [
       "<Figure size 432x288 with 1 Axes>"
      ]
     },
     "metadata": {},
     "output_type": "display_data"
    }
   ],
   "source": [
    "# Filter out items without usernames\n",
    "train_users = leaky_feats_train['username'].loc[(leaky_feats_train['countUsernames'] != 0)]\n",
    "test_users = leaky_feats_test['username'].loc[(leaky_feats_test['countUsernames'] != 0)]\n",
    "\n",
    "# Obtain list of unique usernames\n",
    "train_users_list = list(set([a for b in train_users.tolist() for a in b]))\n",
    "test_users_list = list(set([a for b in test_users.tolist() for a in b]))\n",
    "                        \n",
    "# Obtain common elements\n",
    "common_users_list = list(set(train_users_list).intersection(test_users_list))\n",
    "                       \n",
    "plt.title(\"Common usernames\")\n",
    "venn.venn2(subsets=(len(train_users_list),len(test_users_list),len(common_users_list)),\n",
    "           set_labels=(\"# of unique usernames (Train)\",\"# of unique usernames (Test)\"))\n",
    "plt.show()"
   ]
  },
  {
   "cell_type": "markdown",
   "metadata": {},
   "source": [
    "The feature stability (or reoccurance) of train dataset usernames in the test dataset seems to be minimal. \n",
    "\n",
    "Therefore can just use the IPs/URLs in common (intersection) for test and train in our feature engineering.\n",
    "\n",
    "Note that it may be useful to look more into these IPs - for example, there may be invalid or blocked IPs present that we would not want to interfere with our model (https://en.wikipedia.org/wiki/Wikipedia:Database_reports/Indefinitely_blocked_IPs)"
   ]
  },
  {
   "cell_type": "markdown",
   "metadata": {},
   "source": [
    "### Corpus Cleaning"
   ]
  },
  {
   "cell_type": "code",
   "execution_count": 49,
   "metadata": {},
   "outputs": [],
   "source": [
    "# Aphost lookup dict\n",
    "APPO = {\n",
    "\"aren't\" : \"are not\",\n",
    "\"can't\" : \"cannot\",\n",
    "\"couldn't\" : \"could not\",\n",
    "\"didn't\" : \"did not\",\n",
    "\"doesn't\" : \"does not\",\n",
    "\"don't\" : \"do not\",\n",
    "\"hadn't\" : \"had not\",\n",
    "\"hasn't\" : \"has not\",\n",
    "\"haven't\" : \"have not\",\n",
    "\"he'd\" : \"he would\",\n",
    "\"he'll\" : \"he will\",\n",
    "\"he's\" : \"he is\",\n",
    "\"i'd\" : \"I would\",\n",
    "\"i'd\" : \"I had\",\n",
    "\"i'll\" : \"I will\",\n",
    "\"i'm\" : \"I am\",\n",
    "\"isn't\" : \"is not\",\n",
    "\"it's\" : \"it is\",\n",
    "\"it'll\":\"it will\",\n",
    "\"i've\" : \"I have\",\n",
    "\"let's\" : \"let us\",\n",
    "\"mightn't\" : \"might not\",\n",
    "\"mustn't\" : \"must not\",\n",
    "\"shan't\" : \"shall not\",\n",
    "\"she'd\" : \"she would\",\n",
    "\"she'll\" : \"she will\",\n",
    "\"she's\" : \"she is\",\n",
    "\"shouldn't\" : \"should not\",\n",
    "\"that's\" : \"that is\",\n",
    "\"there's\" : \"there is\",\n",
    "\"they'd\" : \"they would\",\n",
    "\"they'll\" : \"they will\",\n",
    "\"they're\" : \"they are\",\n",
    "\"they've\" : \"they have\",\n",
    "\"we'd\" : \"we would\",\n",
    "\"we're\" : \"we are\",\n",
    "\"weren't\" : \"were not\",\n",
    "\"we've\" : \"we have\",\n",
    "\"what'll\" : \"what will\",\n",
    "\"what're\" : \"what are\",\n",
    "\"what's\" : \"what is\",\n",
    "\"what've\" : \"what have\",\n",
    "\"where's\" : \"where is\",\n",
    "\"who'd\" : \"who would\",\n",
    "\"who'll\" : \"who will\",\n",
    "\"who're\" : \"who are\",\n",
    "\"who's\" : \"who is\",\n",
    "\"who've\" : \"who have\",\n",
    "\"won't\" : \"will not\",\n",
    "\"wouldn't\" : \"would not\",\n",
    "\"you'd\" : \"you would\",\n",
    "\"you'll\" : \"you will\",\n",
    "\"you're\" : \"you are\",\n",
    "\"you've\" : \"you have\",\n",
    "\"'re\": \" are\",\n",
    "\"wasn't\": \"was not\",\n",
    "\"we'll\":\" will\",\n",
    "\"didn't\": \"did not\",\n",
    "\"tryin'\":\"trying\"\n",
    "}"
   ]
  },
  {
   "cell_type": "code",
   "execution_count": 55,
   "metadata": {},
   "outputs": [
    {
     "ename": "NameError",
     "evalue": "name 'TweetTokenizer' is not defined",
     "output_type": "error",
     "traceback": [
      "\u001b[1;31m---------------------------------------------------------------------------\u001b[0m",
      "\u001b[1;31mNameError\u001b[0m                                 Traceback (most recent call last)",
      "\u001b[1;32m<ipython-input-55-4833839667af>\u001b[0m in \u001b[0;36m<module>\u001b[1;34m\u001b[0m\n\u001b[1;32m----> 1\u001b[1;33m \u001b[0mtokenizer\u001b[0m\u001b[1;33m=\u001b[0m\u001b[0mTweetTokenizer\u001b[0m\u001b[1;33m(\u001b[0m\u001b[1;33m)\u001b[0m\u001b[1;33m\u001b[0m\u001b[1;33m\u001b[0m\u001b[0m\n\u001b[0m\u001b[0;32m      2\u001b[0m \u001b[1;33m\u001b[0m\u001b[0m\n\u001b[0;32m      3\u001b[0m \u001b[0mcorpus\u001b[0m \u001b[1;33m=\u001b[0m \u001b[0mmerged\u001b[0m\u001b[1;33m[\u001b[0m\u001b[1;34m'comment_text'\u001b[0m\u001b[1;33m]\u001b[0m\u001b[1;33m\u001b[0m\u001b[1;33m\u001b[0m\u001b[0m\n",
      "\u001b[1;31mNameError\u001b[0m: name 'TweetTokenizer' is not defined"
     ]
    }
   ],
   "source": [
    "corpus = merged['comment_text']"
   ]
  },
  {
   "cell_type": "code",
   "execution_count": 50,
   "metadata": {},
   "outputs": [],
   "source": [
    "def cleanComment(comment):\n",
    "    \"\"\"Takes a comment and returns cleaned copy.\"\"\"\n",
    "    \n",
    "    # Lower case\n",
    "    comment = comment.lower()\n",
    "    \n",
    "    # Remove '\\n'\n",
    "    comment = re.sub('\\\\n', '', comment)\n",
    "    \n",
    "    # Remove IPs\n",
    "    comment = re.sub('\\d{1,3}\\.\\d{1,3}\\.\\d{1,3}\\.\\d{1,3}', '', comment)\n",
    "    \n",
    "    # Remove username\n",
    "    comment = re.sub('\\[\\[.*\\]', '', comment)\n",
    "    \n",
    "    # Split comment (sentences) into words (tokens)\n",
    "    words = tokenizer.tokenize(comment)\n",
    "    \n",
    "    # Replace apostrophes; you're --> you are  \n",
    "    # using basic dictionary lookup \n",
    "    words = [APPO[word] if word in APPO else word for word in words]\n",
    "    words = [lem.lemmatize(word, 'v') for word in words]\n",
    "    words = [w for w in words if not w in eng_stopwords]\n",
    "    \n",
    "    cleaned = ' '.join(words)\n",
    "\n",
    "    return(cleaned)"
   ]
  },
  {
   "cell_type": "code",
   "execution_count": 51,
   "metadata": {},
   "outputs": [
    {
     "data": {
      "text/plain": [
       "'\"\\n\\n NOTE If you read above, and follow the links, any reader can see that I cited correctly the links I added on this subject. Vidkun has added anotations to make them read as the oposite, but these links show the \"\"official\"\" line taken by UGLE. I will not be trapped by any User into so-called 3RR, so he can peddle his POV. Strangly, ALL other \"\"MASONS\"\" are quiet, leaving ‘‘me’’ to defend that factual truth on my own. \"\"Thanks\"\" Brethren. Sitting any blocking out if given...  \"'"
      ]
     },
     "execution_count": 51,
     "metadata": {},
     "output_type": "execute_result"
    }
   ],
   "source": [
    "corpus.iloc[12235]"
   ]
  },
  {
   "cell_type": "code",
   "execution_count": 65,
   "metadata": {},
   "outputs": [
    {
     "data": {
      "text/plain": [
       "'\" note read , follow link , reader see cite correctly link add subject . vidkun add anotations make read oposite , link show \" \" official \" \" line take ugle . trap user so-called 3rr , peddle pov . strangly , \" \" masons \" \" quiet , leave ‘ ‘ ’ ’ defend factual truth . \" \" thank \" \" brethren . sit block give ... \"'"
      ]
     },
     "execution_count": 65,
     "metadata": {},
     "output_type": "execute_result"
    }
   ],
   "source": [
    "cleanComment(corpus.iloc[12235])"
   ]
  },
  {
   "cell_type": "code",
   "execution_count": 66,
   "metadata": {},
   "outputs": [
    {
     "name": "stdout",
     "output_type": "stream",
     "text": [
      "Wall time: 1min 31s\n"
     ]
    }
   ],
   "source": [
    "# Clean entire corpus\n",
    "\n",
    "%time clean_corpus = corpus.apply(lambda x: cleanComment(x))"
   ]
  },
  {
   "cell_type": "markdown",
   "metadata": {},
   "source": [
    "### Direct Features\n",
    "\n",
    "- Count Based Features (unigrams)\n",
    "\n",
    "Let's create some features based on the frequency distribution of the words. We can start by taking words one at a time (unigrams).\n",
    "\n",
    "- CountVectorizer \n",
    "    - Creates a matrix with frequency counts of each word in the text corpus\n",
    "- TF IDF Vectorizer\n",
    "    - Term Frequency: Count of the words (terms) in the corpus (same as CountVectorizer)\n",
    "    - Inverse Document Frequency: Penalizes words that are too frequent (can be thought of as regularization)\n",
    "- HashingVectorizer\n",
    "    - Creates a hashmap (word to number mapping based on hashing technique) instead of a dictionary for words\n",
    " "
   ]
  },
  {
   "cell_type": "code",
   "execution_count": null,
   "metadata": {},
   "outputs": [],
   "source": []
  },
  {
   "cell_type": "code",
   "execution_count": null,
   "metadata": {},
   "outputs": [],
   "source": []
  },
  {
   "cell_type": "code",
   "execution_count": 90,
   "metadata": {},
   "outputs": [
    {
     "data": {
      "text/html": [
       "<div>\n",
       "<style scoped>\n",
       "    .dataframe tbody tr th:only-of-type {\n",
       "        vertical-align: middle;\n",
       "    }\n",
       "\n",
       "    .dataframe tbody tr th {\n",
       "        vertical-align: top;\n",
       "    }\n",
       "\n",
       "    .dataframe thead th {\n",
       "        text-align: right;\n",
       "    }\n",
       "</style>\n",
       "<table border=\"1\" class=\"dataframe\">\n",
       "  <thead>\n",
       "    <tr style=\"text-align: right;\">\n",
       "      <th></th>\n",
       "      <th>id</th>\n",
       "      <th>comment_text</th>\n",
       "      <th>sentenceCount</th>\n",
       "      <th>wordCount</th>\n",
       "      <th>uniqueWordCount</th>\n",
       "      <th>letterCount</th>\n",
       "      <th>puncCount</th>\n",
       "      <th>uppercaseCount</th>\n",
       "      <th>titleWordCount</th>\n",
       "      <th>stopwordCount</th>\n",
       "      <th>meanWordLength</th>\n",
       "      <th>wordCountPercent</th>\n",
       "      <th>puncPercent</th>\n",
       "    </tr>\n",
       "  </thead>\n",
       "  <tbody>\n",
       "    <tr>\n",
       "      <th>0</th>\n",
       "      <td>0000997932d777bf</td>\n",
       "      <td>Explanation\\nWhy the edits made under my usern...</td>\n",
       "      <td>2</td>\n",
       "      <td>43</td>\n",
       "      <td>41</td>\n",
       "      <td>264</td>\n",
       "      <td>10</td>\n",
       "      <td>2</td>\n",
       "      <td>11</td>\n",
       "      <td>20</td>\n",
       "      <td>5.162791</td>\n",
       "      <td>95.35</td>\n",
       "      <td>23.26</td>\n",
       "    </tr>\n",
       "    <tr>\n",
       "      <th>1</th>\n",
       "      <td>000103f0d9cfb60f</td>\n",
       "      <td>D'aww! He matches this background colour I'm s...</td>\n",
       "      <td>1</td>\n",
       "      <td>17</td>\n",
       "      <td>17</td>\n",
       "      <td>112</td>\n",
       "      <td>12</td>\n",
       "      <td>1</td>\n",
       "      <td>3</td>\n",
       "      <td>3</td>\n",
       "      <td>5.588235</td>\n",
       "      <td>100.00</td>\n",
       "      <td>70.59</td>\n",
       "    </tr>\n",
       "    <tr>\n",
       "      <th>2</th>\n",
       "      <td>000113f07ec002fd</td>\n",
       "      <td>Hey man, I'm really not trying to edit war. It...</td>\n",
       "      <td>1</td>\n",
       "      <td>42</td>\n",
       "      <td>39</td>\n",
       "      <td>233</td>\n",
       "      <td>6</td>\n",
       "      <td>0</td>\n",
       "      <td>2</td>\n",
       "      <td>21</td>\n",
       "      <td>4.571429</td>\n",
       "      <td>92.86</td>\n",
       "      <td>14.29</td>\n",
       "    </tr>\n",
       "    <tr>\n",
       "      <th>3</th>\n",
       "      <td>0001b41b1c6bb37e</td>\n",
       "      <td>\"\\nMore\\nI can't make any real suggestions on ...</td>\n",
       "      <td>5</td>\n",
       "      <td>113</td>\n",
       "      <td>82</td>\n",
       "      <td>622</td>\n",
       "      <td>21</td>\n",
       "      <td>5</td>\n",
       "      <td>7</td>\n",
       "      <td>58</td>\n",
       "      <td>4.486726</td>\n",
       "      <td>72.57</td>\n",
       "      <td>18.58</td>\n",
       "    </tr>\n",
       "    <tr>\n",
       "      <th>4</th>\n",
       "      <td>0001d958c54c6e35</td>\n",
       "      <td>You, sir, are my hero. Any chance you remember...</td>\n",
       "      <td>1</td>\n",
       "      <td>13</td>\n",
       "      <td>13</td>\n",
       "      <td>67</td>\n",
       "      <td>5</td>\n",
       "      <td>0</td>\n",
       "      <td>2</td>\n",
       "      <td>6</td>\n",
       "      <td>4.230769</td>\n",
       "      <td>100.00</td>\n",
       "      <td>38.46</td>\n",
       "    </tr>\n",
       "  </tbody>\n",
       "</table>\n",
       "</div>"
      ],
      "text/plain": [
       "                 id                                       comment_text  \\\n",
       "0  0000997932d777bf  Explanation\\nWhy the edits made under my usern...   \n",
       "1  000103f0d9cfb60f  D'aww! He matches this background colour I'm s...   \n",
       "2  000113f07ec002fd  Hey man, I'm really not trying to edit war. It...   \n",
       "3  0001b41b1c6bb37e  \"\\nMore\\nI can't make any real suggestions on ...   \n",
       "4  0001d958c54c6e35  You, sir, are my hero. Any chance you remember...   \n",
       "\n",
       "   sentenceCount  wordCount  uniqueWordCount  letterCount  puncCount  \\\n",
       "0              2         43               41          264         10   \n",
       "1              1         17               17          112         12   \n",
       "2              1         42               39          233          6   \n",
       "3              5        113               82          622         21   \n",
       "4              1         13               13           67          5   \n",
       "\n",
       "   uppercaseCount  titleWordCount  stopwordCount  meanWordLength  \\\n",
       "0               2              11             20        5.162791   \n",
       "1               1               3              3        5.588235   \n",
       "2               0               2             21        4.571429   \n",
       "3               5               7             58        4.486726   \n",
       "4               0               2              6        4.230769   \n",
       "\n",
       "   wordCountPercent  puncPercent  \n",
       "0             95.35        23.26  \n",
       "1            100.00        70.59  \n",
       "2             92.86        14.29  \n",
       "3             72.57        18.58  \n",
       "4            100.00        38.46  "
      ]
     },
     "execution_count": 90,
     "metadata": {},
     "output_type": "execute_result"
    }
   ],
   "source": [
    "df.head()"
   ]
  },
  {
   "cell_type": "code",
   "execution_count": null,
   "metadata": {},
   "outputs": [],
   "source": []
  }
 ],
 "metadata": {
  "kernelspec": {
   "display_name": "Python 3",
   "language": "python",
   "name": "python3"
  },
  "language_info": {
   "codemirror_mode": {
    "name": "ipython",
    "version": 3
   },
   "file_extension": ".py",
   "mimetype": "text/x-python",
   "name": "python",
   "nbconvert_exporter": "python",
   "pygments_lexer": "ipython3",
   "version": "3.7.4"
  }
 },
 "nbformat": 4,
 "nbformat_minor": 2
}
